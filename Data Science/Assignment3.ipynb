{
 "cells": [
  {
   "cell_type": "code",
   "execution_count": 1,
   "id": "4ff46cd3",
   "metadata": {},
   "outputs": [],
   "source": [
    "import pandas as pd\n",
    "import numpy as np\n",
    "import matplotlib.pyplot as plt\n",
    "from scipy import stats\n"
   ]
  },
  {
   "cell_type": "markdown",
   "id": "bd846a47",
   "metadata": {},
   "source": [
    "### Question1:\n",
    "Scenario: A company wants to analyze the sales performance of its products in different regions. They have collected the following data:</br>\n",
    "   Region A: [10, 15, 12, 8, 14]</br>\n",
    "   Region B: [18, 20, 16, 22, 25]</br>\n",
    "   Calculate the mean sales for each region.</br>\n",
    "\n"
   ]
  },
  {
   "cell_type": "code",
   "execution_count": 4,
   "id": "1521635d",
   "metadata": {},
   "outputs": [
    {
     "name": "stdout",
     "output_type": "stream",
     "text": [
      "Mean of Region A is 11.8\n",
      "Mean of Region B is 20.2\n"
     ]
    }
   ],
   "source": [
    "region_A = np.array([10, 15, 12, 8, 14])\n",
    "region_B = np.array([18, 20, 16, 22, 25])\n",
    "print(f\"Mean of Region A is {np.mean(region_A)}\")\n",
    "print(f\"Mean of Region B is {np.mean(region_B)}\")"
   ]
  },
  {
   "cell_type": "markdown",
   "id": "66c5467f",
   "metadata": {},
   "source": [
    "### Question2: \n",
    "Scenario: A survey is conducted to measure customer satisfaction on a scale of 1 to 5. The data collected is as follows:</br>\n",
    "   [4, 5, 2, 3, 5, 4, 3, 2, 4, 5]</br>\n",
    "   Calculate the mode of the survey responses.</br>\n"
   ]
  },
  {
   "cell_type": "code",
   "execution_count": 11,
   "id": "1260283f",
   "metadata": {},
   "outputs": [
    {
     "name": "stdout",
     "output_type": "stream",
     "text": [
      "Mode of the data is [4]\n"
     ]
    }
   ],
   "source": [
    "data = [4, 5, 2, 3, 5, 4, 3, 2, 4, 5]\n",
    "print(f\"Mode of the data is {stats.mode(data)[0]}\")\n"
   ]
  },
  {
   "cell_type": "markdown",
   "id": "3b66f1bf",
   "metadata": {},
   "source": [
    "### Question3:\n",
    "Scenario: A company wants to compare the salaries of two departments. The salary data for Department A and Department B are as follows:</br>\n",
    "   Department A: [5000, 6000, 5500, 7000]</br>\n",
    "   Department B: [4500, 5500, 5800, 6000, 5200]</br>\n",
    "   Calculate the median salary for each department.</br>\n"
   ]
  },
  {
   "cell_type": "code",
   "execution_count": 13,
   "id": "8d75dddc",
   "metadata": {},
   "outputs": [
    {
     "name": "stdout",
     "output_type": "stream",
     "text": [
      "Median of departmen A is: 5750.0\n",
      "Median of departmen B is: 5500.0\n"
     ]
    }
   ],
   "source": [
    "dept_A = np.array([5000,6000,5500,7000])\n",
    "dept_B = np.array([4500,5500,5800,6000,5200])\n",
    "print(\"Median of departmen A is:\", np.median(dept_A))\n",
    "print(\"Median of departmen B is:\", np.median(dept_B))"
   ]
  },
  {
   "cell_type": "markdown",
   "id": "1f367bbc",
   "metadata": {},
   "source": [
    "### Question4: \n",
    "Scenario: A data analyst wants to determine the variability in the daily stock prices of a company. The data collected is as follows:</br>\n",
    "   [25.5, 24.8, 26.1, 25.3, 24.9]</br>\n",
    "   Calculate the range of the stock prices.</br>\n"
   ]
  },
  {
   "cell_type": "code",
   "execution_count": 15,
   "id": "c8b3c18e",
   "metadata": {},
   "outputs": [
    {
     "name": "stdout",
     "output_type": "stream",
     "text": [
      "Range of the data is: 1.3000000000000007\n"
     ]
    }
   ],
   "source": [
    "data = np.array([25.5, 24.8, 26.1, 25.3, 24.9])\n",
    "print(\"Range of the data is:\", (np.max(data) - np.min(data)))"
   ]
  },
  {
   "cell_type": "markdown",
   "id": "19489865",
   "metadata": {},
   "source": [
    "### Question5:\n",
    "Scenario: A study is conducted to compare the performance of two different teaching methods. The test scores of the students in each group are as follows:</br>\n",
    "   Group A: [85, 90, 92, 88, 91]</br>\n",
    "   Group B: [82, 88, 90, 86, 87]</br>\n",
    "   Perform a t-test to determine if there is a significant difference in the mean scores between the two groups.</br>\n"
   ]
  },
  {
   "cell_type": "markdown",
   "id": "25ce5750",
   "metadata": {},
   "source": [
    "Null Hypothesis: Group A and Group B has no differnce in the mean scores.</br>\n",
    "Alternate Hypothesis: Group A and Group B has significant difference in the mean scores."
   ]
  },
  {
   "cell_type": "code",
   "execution_count": 16,
   "id": "f8394156",
   "metadata": {},
   "outputs": [],
   "source": [
    "\n",
    "group_A = np.array([85, 90, 92, 88, 91])\n",
    "group_B = np.array([82, 88, 90, 86, 87])\n"
   ]
  },
  {
   "cell_type": "markdown",
   "id": "5b28001c",
   "metadata": {},
   "source": [
    "As number of elements in each sample are less than 30 so we have to first check whether both follow normal distribution or not.For checking normal distribution we have to use shapiro test."
   ]
  },
  {
   "cell_type": "code",
   "execution_count": 19,
   "id": "466be4ec",
   "metadata": {},
   "outputs": [
    {
     "name": "stdout",
     "output_type": "stream",
     "text": [
      "Shapiro-Wilk test for Group A students: ShapiroResult(statistic=0.9385504722595215, pvalue=0.6557092666625977)\n",
      "Shapiro-Wilk test for Group B students: ShapiroResult(statistic=0.9556270837783813, pvalue=0.7772530913352966)\n"
     ]
    }
   ],
   "source": [
    "from scipy.stats import shapiro\n",
    "\n",
    "# Perform the Shapiro-Wilk test:\n",
    "shapiro_groupA = shapiro(group_A)\n",
    "shapiro_groupB = shapiro(group_B)\n",
    "\n",
    "print(\"Shapiro-Wilk test for Group A students:\", shapiro_groupA)\n",
    "print(\"Shapiro-Wilk test for Group B students:\", shapiro_groupB)"
   ]
  },
  {
   "cell_type": "markdown",
   "id": "d80c9435",
   "metadata": {},
   "source": [
    "As P-value is  higher than 0.05 we can say that both distributions are having normal distribution."
   ]
  },
  {
   "cell_type": "markdown",
   "id": "f4463243",
   "metadata": {},
   "source": [
    "To check whether both samples have same variance we have to perform levene test."
   ]
  },
  {
   "cell_type": "code",
   "execution_count": 20,
   "id": "079630da",
   "metadata": {},
   "outputs": [
    {
     "name": "stdout",
     "output_type": "stream",
     "text": [
      "LeveneResult(statistic=0.0, pvalue=1.0)\n"
     ]
    }
   ],
   "source": [
    "from scipy.stats import levene\n",
    "\n",
    "# Perform Levene's test\n",
    "levene_test = levene(group_A, group_B)\n",
    "print(levene_test)"
   ]
  },
  {
   "cell_type": "markdown",
   "id": "f269d006",
   "metadata": {},
   "source": [
    "We can see p value is 1 this means it is very high than 0.05 .In the output statistic value is 0,this means both samples have same variance value.</br>\n",
    "Now we will conduct our t test."
   ]
  },
  {
   "cell_type": "code",
   "execution_count": 21,
   "id": "39081bc0",
   "metadata": {},
   "outputs": [
    {
     "name": "stdout",
     "output_type": "stream",
     "text": [
      "t-statistic: 1.4312528946642733\n",
      "p-value: 0.09511985119539167\n"
     ]
    }
   ],
   "source": [
    "import scipy.stats as stats\n",
    "\n",
    "t_statistic, p_value = stats.ttest_ind(group_A, group_B)\n",
    "\n",
    "print(\"t-statistic:\", t_statistic)\n",
    "print(\"p-value:\", p_value/2)"
   ]
  },
  {
   "cell_type": "code",
   "execution_count": 22,
   "id": "d44ae382",
   "metadata": {},
   "outputs": [
    {
     "name": "stdout",
     "output_type": "stream",
     "text": [
      "Fail to reject the null hypothesis.\n"
     ]
    }
   ],
   "source": [
    "alpha = 0.05\n",
    "\n",
    "if p_value < alpha:\n",
    "    print(\"Reject the null hypothesis.\")\n",
    "else:\n",
    "    print(\"Fail to reject the null hypothesis.\")"
   ]
  },
  {
   "cell_type": "markdown",
   "id": "135dc042",
   "metadata": {},
   "source": [
    "### Question6: \n",
    "Scenario: A company wants to analyze the relationship between advertising expenditure and sales. The data collected is as follows:</br>\n",
    "   Advertising Expenditure (in thousands): [10, 15, 12, 8, 14]</br>\n",
    "   Sales (in thousands): [25, 30, 28, 20, 26]</br>\n",
    "   Calculate the correlation coefficient between advertising expenditure and sales.</br>\n",
    "\n"
   ]
  },
  {
   "cell_type": "code",
   "execution_count": 30,
   "id": "2a1ae5d7",
   "metadata": {},
   "outputs": [
    {
     "name": "stdout",
     "output_type": "stream",
     "text": [
      "0.8757511375750133\n"
     ]
    }
   ],
   "source": [
    "from scipy.stats import pearsonr\n",
    "expenditure_data = np.array([10, 15, 12, 8, 14])\n",
    "sales_data = np.array([25, 30, 28, 20, 26])\n",
    "pearson_correlation_coeff,_  = pearsonr(expenditure_data, sales_data)\n",
    "print(pearson_correlation_coeff)"
   ]
  },
  {
   "cell_type": "markdown",
   "id": "5d4127ce",
   "metadata": {},
   "source": [
    "### Question7: \n",
    "A survey is conducted to measure the heights of a group of people. The data collected is as follows:</br>\n",
    "   [160, 170, 165, 155, 175, 180, 170]</br>\n",
    "   Calculate the standard deviation of the heights</br>\n"
   ]
  },
  {
   "cell_type": "code",
   "execution_count": 31,
   "id": "9b921efa",
   "metadata": {},
   "outputs": [
    {
     "name": "stdout",
     "output_type": "stream",
     "text": [
      "standard deviation of given data is:  7.953949089757174\n"
     ]
    }
   ],
   "source": [
    "data = np.array([160, 170, 165, 155, 175, 180, 170])\n",
    "print(\"standard deviation of given data is: \", np.std(data))"
   ]
  },
  {
   "cell_type": "markdown",
   "id": "d52fc7e3",
   "metadata": {},
   "source": [
    "### Question8: \n",
    "A company wants to analyze the relationship between employee tenure and job satisfaction. The data collected is as follows:</br>\n",
    "   Employee Tenure (in years): [2, 3, 5, 4, 6, 2, 4]</br>\n",
    "   Job Satisfaction (on a scale of 1 to 10): [7, 8, 6, 9, 5, 7, 6]</br>\n",
    "   Perform a linear regression analysis to predict job satisfaction based on employee tenure.</br>\n",
    "\n"
   ]
  },
  {
   "cell_type": "code",
   "execution_count": 9,
   "id": "66923a95",
   "metadata": {},
   "outputs": [],
   "source": [
    "input = np.array([2, 3, 5, 4, 6, 2, 4]).reshape(-1,1)\n",
    "target = np.array([7, 8, 6, 9, 5, 7, 6]).reshape(-1,1)\n"
   ]
  },
  {
   "cell_type": "code",
   "execution_count": 10,
   "id": "392250c4",
   "metadata": {},
   "outputs": [
    {
     "data": {
      "text/plain": [
       "LinearRegression()"
      ]
     },
     "execution_count": 10,
     "metadata": {},
     "output_type": "execute_result"
    }
   ],
   "source": [
    "from sklearn.linear_model import LinearRegression\n",
    "lr = LinearRegression()\n",
    "lr.fit(input,target)"
   ]
  },
  {
   "cell_type": "code",
   "execution_count": 11,
   "id": "adf095a8",
   "metadata": {},
   "outputs": [
    {
     "data": {
      "text/plain": [
       "array([[-0.46808511]])"
      ]
     },
     "execution_count": 11,
     "metadata": {},
     "output_type": "execute_result"
    }
   ],
   "source": [
    "lr.coef_"
   ]
  },
  {
   "cell_type": "code",
   "execution_count": 12,
   "id": "c4143b91",
   "metadata": {},
   "outputs": [
    {
     "data": {
      "text/plain": [
       "array([8.59574468])"
      ]
     },
     "execution_count": 12,
     "metadata": {},
     "output_type": "execute_result"
    }
   ],
   "source": [
    "lr.intercept_"
   ]
  },
  {
   "cell_type": "markdown",
   "id": "75138d6c",
   "metadata": {},
   "source": [
    "### Question9: \n",
    "A study is conducted to compare the effectiveness of two different medications. The recovery times of the patients in each group are as follows:</br>\n",
    "   Medication A: [10, 12, 14, 11, 13]</br>\n",
    "   Medication B: [15, 17, 16, 14, 18]</br>\n",
    "   Perform an analysis of variance (ANOVA) to determine if there is a significant difference in the mean recovery times between the two medications.\n"
   ]
  },
  {
   "cell_type": "markdown",
   "id": "835d62ef",
   "metadata": {},
   "source": [
    "Null Hypothesis: There is no difference in the mean recovery time between the two medications.</br>\n",
    "Alternate Hypothesis: There is significant difference in the mean recovery time between the two medications."
   ]
  },
  {
   "cell_type": "code",
   "execution_count": 15,
   "id": "58a90c62",
   "metadata": {},
   "outputs": [],
   "source": [
    "data_a = np.array([10, 12, 14, 11, 13])\n",
    "data_b = np.array([15, 17, 16, 14, 18])"
   ]
  },
  {
   "cell_type": "code",
   "execution_count": 16,
   "id": "6b0b079f",
   "metadata": {},
   "outputs": [],
   "source": [
    "dof_a = len(data_a)\n",
    "dof_b = len(data_b)"
   ]
  },
  {
   "cell_type": "code",
   "execution_count": 18,
   "id": "09ef9dd1",
   "metadata": {},
   "outputs": [],
   "source": [
    "import scipy.stats as stats\n",
    "f_stat = stats.f_oneway(data_a, data_b)"
   ]
  },
  {
   "cell_type": "code",
   "execution_count": 19,
   "id": "8dca6bbf",
   "metadata": {},
   "outputs": [
    {
     "data": {
      "text/plain": [
       "F_onewayResult(statistic=16.0, pvalue=0.003949772803445326)"
      ]
     },
     "execution_count": 19,
     "metadata": {},
     "output_type": "execute_result"
    }
   ],
   "source": [
    "f_stat"
   ]
  },
  {
   "cell_type": "code",
   "execution_count": 22,
   "id": "c04e56aa",
   "metadata": {},
   "outputs": [
    {
     "data": {
      "text/plain": [
       "0.003949772803445326"
      ]
     },
     "execution_count": 22,
     "metadata": {},
     "output_type": "execute_result"
    }
   ],
   "source": [
    "p_value = f_stat[1]\n",
    "p_value"
   ]
  },
  {
   "cell_type": "code",
   "execution_count": 23,
   "id": "9b14bfe1",
   "metadata": {},
   "outputs": [
    {
     "name": "stdout",
     "output_type": "stream",
     "text": [
      "Reject the null hypothesis.\n"
     ]
    }
   ],
   "source": [
    "alpha = 0.05\n",
    "\n",
    "if p_value < alpha:\n",
    "    print(\"Reject the null hypothesis.\")\n",
    "else:\n",
    "    print(\"Fail to reject the null hypothesis.\")"
   ]
  },
  {
   "cell_type": "markdown",
   "id": "00f7ed39",
   "metadata": {},
   "source": [
    "### Question10: \n",
    "Scenario: A company wants to analyze customer feedback ratings on a scale of 1 to 10. The data collected is as follows:</br>\n",
    "[8, 9, 7, 6, 8, 10, 9, 8, 7, 8]</br>\n",
    "    Calculate the 75th percentile of the feedback ratings.</br>\n"
   ]
  },
  {
   "cell_type": "code",
   "execution_count": 25,
   "id": "27ce08d6",
   "metadata": {},
   "outputs": [
    {
     "data": {
      "text/plain": [
       "8.75"
      ]
     },
     "execution_count": 25,
     "metadata": {},
     "output_type": "execute_result"
    }
   ],
   "source": [
    "data = np.array([8, 9, 7, 6, 8, 10, 9, 8, 7, 8])\n",
    "np.percentile(data, q = 75)"
   ]
  },
  {
   "cell_type": "markdown",
   "id": "b3a99d8f",
   "metadata": {},
   "source": [
    "### Question11: \n",
    "Scenario: A quality control department wants to test the weight consistency of a product. The weights of a sample of products are as follows:</br>\n",
    "    [10.2, 9.8, 10.0, 10.5, 10.3, 10.1]</br>\n",
    "    Perform a hypothesis test to determine if the mean weight differs significantly from 10 grams.</br>\n",
    "\n"
   ]
  },
  {
   "cell_type": "markdown",
   "id": "3d4e6270",
   "metadata": {},
   "source": [
    "In this problem as population standard deviation is unknown and sample size is small so we will do t test for verifying the hypothesis.</br>\n",
    "As we are given the population mean so here we will do single sample t-test."
   ]
  },
  {
   "cell_type": "markdown",
   "id": "96f27ad5",
   "metadata": {},
   "source": [
    "Null Hypothesis: There is no difference between sample data mean and given population mean.</br>\n",
    "Alternate hypothesis: There is significant difference between sample data mean and given population mean."
   ]
  },
  {
   "cell_type": "code",
   "execution_count": 28,
   "id": "c3e6f0a1",
   "metadata": {},
   "outputs": [],
   "source": [
    "data = np.array([10.2, 9.8, 10.0, 10.5, 10.3, 10.1])\n",
    "pop_mean = 10\n"
   ]
  },
  {
   "cell_type": "code",
   "execution_count": 27,
   "id": "c816f6f4",
   "metadata": {},
   "outputs": [
    {
     "name": "stdout",
     "output_type": "stream",
     "text": [
      "Shapiro-Wilk test for Group A students: ShapiroResult(statistic=0.9999257922172546, pvalue=0.9999999403953552)\n"
     ]
    }
   ],
   "source": [
    "#First we check whether our sample data is normal or not.For this we have to do shapiro test.\n",
    "from scipy.stats import shapiro\n",
    "\n",
    "# Perform the Shapiro-Wilk test:\n",
    "shapiro_data = shapiro(data)\n",
    "\n",
    "print(\"Shapiro-Wilk test for Group A students:\", shapiro_data)"
   ]
  },
  {
   "cell_type": "markdown",
   "id": "abf3c90c",
   "metadata": {},
   "source": [
    "As we can see p value is near 1,so we can say that data is having normal distribution."
   ]
  },
  {
   "cell_type": "code",
   "execution_count": 30,
   "id": "57c87e67",
   "metadata": {},
   "outputs": [
    {
     "name": "stdout",
     "output_type": "stream",
     "text": [
      "t-statistic: 1.5126584522688367\n",
      "p-value: 0.09538797575555051\n"
     ]
    }
   ],
   "source": [
    "import scipy.stats as stats\n",
    "\n",
    "t_statistic, p_value = stats.ttest_1samp(data, pop_mean)\n",
    "\n",
    "print(\"t-statistic:\", t_statistic)\n",
    "print(\"p-value:\", p_value/2)"
   ]
  },
  {
   "cell_type": "code",
   "execution_count": 31,
   "id": "842b971c",
   "metadata": {},
   "outputs": [
    {
     "name": "stdout",
     "output_type": "stream",
     "text": [
      "Fail to reject the null hypothesis.\n"
     ]
    }
   ],
   "source": [
    "alpha = 0.05\n",
    "\n",
    "if p_value < alpha:\n",
    "    print(\"Reject the null hypothesis.\")\n",
    "else:\n",
    "    print(\"Fail to reject the null hypothesis.\")"
   ]
  },
  {
   "cell_type": "markdown",
   "id": "f45c9bc0",
   "metadata": {},
   "source": [
    "### Question12: \n",
    "Scenario: A company wants to analyze the click-through rates of two different website designs. The number of clicks for each design is as follows:</br>\n",
    "    Design A: [100, 120, 110, 90, 95]</br>\n",
    "    Design B: [80, 85, 90, 95, 100]</br>\n",
    "    Perform a chi-square test to determine if there is a significant difference in the click-through rates between the two designs.\n"
   ]
  },
  {
   "cell_type": "markdown",
   "id": "a399ef7a",
   "metadata": {},
   "source": [
    "Null Hypothesis: There is no significant difference in the click through rates between the two designs.</br>\n",
    "Alternate Hypothesis:  There is significant difference in the click through rates between the two designs."
   ]
  },
  {
   "cell_type": "code",
   "execution_count": 2,
   "id": "12bad374",
   "metadata": {},
   "outputs": [],
   "source": [
    "Design_A = np.array([100, 120, 110, 90, 95])\n",
    "Design_B = np.array([80, 85, 90, 95, 100])"
   ]
  },
  {
   "cell_type": "code",
   "execution_count": 8,
   "id": "7184ab0a",
   "metadata": {},
   "outputs": [],
   "source": [
    "df = pd.DataFrame({\"Design_A\": Design_A, \"Design_B\": Design_B})"
   ]
  },
  {
   "cell_type": "code",
   "execution_count": 9,
   "id": "2a20c83f",
   "metadata": {},
   "outputs": [],
   "source": [
    "from scipy.stats import chi2_contingency\n",
    "chi2, p_value, dof, expected = chi2_contingency(df)\n"
   ]
  },
  {
   "cell_type": "code",
   "execution_count": 10,
   "id": "4135f8ae",
   "metadata": {},
   "outputs": [
    {
     "name": "stdout",
     "output_type": "stream",
     "text": [
      "\n",
      "Chi-Square Statistic: 6.11\n",
      "P-value: 0.1910\n",
      "Degrees of Freedom: 4\n",
      "Expected Frequencies: \n",
      "[[ 96.06217617  83.93782383]\n",
      " [109.40414508  95.59585492]\n",
      " [106.7357513   93.2642487 ]\n",
      " [ 98.73056995  86.26943005]\n",
      " [104.06735751  90.93264249]]\n"
     ]
    }
   ],
   "source": [
    "print(\"\\nChi-Square Statistic: {:.2f}\".format(chi2))\n",
    "print(\"P-value: {:.4f}\".format(p_value))\n",
    "print(\"Degrees of Freedom: {}\".format(dof))\n",
    "print(\"Expected Frequencies: \\n{}\".format(expected))"
   ]
  },
  {
   "cell_type": "code",
   "execution_count": 13,
   "id": "73c090d6",
   "metadata": {},
   "outputs": [
    {
     "name": "stdout",
     "output_type": "stream",
     "text": [
      "\n",
      "We fail to reject the null hypothesis. There is a no significant difference in the click through rates between the two designs.\n"
     ]
    }
   ],
   "source": [
    "# Interpret the results\n",
    "alpha = 0.05\n",
    "if p_value < alpha:\n",
    "    print(\"\\nWe reject the null hypothesis.There is  significant difference in the click through rates between the two designs. \")\n",
    "else:\n",
    "    print(\"\\nWe fail to reject the null hypothesis. There is a no significant difference in the click through rates between the two designs.\")"
   ]
  },
  {
   "cell_type": "markdown",
   "id": "d993766c",
   "metadata": {},
   "source": [
    "### Question13: \n",
    "Scenario: A survey is conducted to measure customer satisfaction with a product on a scale of 1 to 10. The data collected is as follows:</br>\n",
    "    [7, 9, 6, 8, 10, 7, 8, 9, 7, 8]</br>\n",
    "    Calculate the 95% confidence interval for the population mean satisfaction score</br>\n"
   ]
  },
  {
   "cell_type": "markdown",
   "id": "87185556",
   "metadata": {},
   "source": [
    "As sample has less than 30 values,so we have to use t distribution to calculate the confidence interval."
   ]
  },
  {
   "cell_type": "code",
   "execution_count": 15,
   "id": "b3930a82",
   "metadata": {},
   "outputs": [],
   "source": [
    "data = np.array([7, 9, 6, 8, 10, 7, 8, 9, 7, 8])"
   ]
  },
  {
   "cell_type": "code",
   "execution_count": 19,
   "id": "c1973959",
   "metadata": {},
   "outputs": [
    {
     "data": {
      "text/plain": [
       "(7.043561120599888, 8.756438879400113)"
      ]
     },
     "execution_count": 19,
     "metadata": {},
     "output_type": "execute_result"
    }
   ],
   "source": [
    "cnf_interval = stats.t.interval(alpha=0.95, df=len(data)-1, loc=np.mean(data), scale=stats.sem(data)) \n",
    "cnf_interval"
   ]
  },
  {
   "cell_type": "markdown",
   "id": "b85bf2d5",
   "metadata": {},
   "source": [
    "### Question14: \n",
    "Scenario: A company wants to analyze the effect of temperature on product performance. The data collected is as follows:</br>\n",
    "    Temperature (in degrees Celsius): [20, 22, 23, 19, 21]</br>\n",
    "    Performance (on a scale of 1 to 10): [8, 7, 9, 6, 8]</br>\n",
    "    Perform a simple linear regression to predict performance based on temperature\n"
   ]
  },
  {
   "cell_type": "code",
   "execution_count": 21,
   "id": "9dfa1576",
   "metadata": {},
   "outputs": [],
   "source": [
    "temp = np.array([20, 22, 23, 19, 21]).reshape(-1,1)\n",
    "perf = np.array([8, 7, 9, 6, 8]).reshape(-1,1)\n"
   ]
  },
  {
   "cell_type": "code",
   "execution_count": 22,
   "id": "198a4e98",
   "metadata": {},
   "outputs": [],
   "source": [
    "from sklearn.preprocessing import StandardScaler"
   ]
  },
  {
   "cell_type": "code",
   "execution_count": 23,
   "id": "43a7d8b7",
   "metadata": {},
   "outputs": [],
   "source": [
    "temp = StandardScaler().fit_transform(temp)\n",
    "perf = StandardScaler().fit_transform(perf)"
   ]
  },
  {
   "cell_type": "code",
   "execution_count": 27,
   "id": "1034343b",
   "metadata": {},
   "outputs": [],
   "source": [
    "from sklearn.linear_model import LinearRegression"
   ]
  },
  {
   "cell_type": "code",
   "execution_count": 28,
   "id": "ccdb9a3a",
   "metadata": {},
   "outputs": [],
   "source": [
    "model = LinearRegression()"
   ]
  },
  {
   "cell_type": "code",
   "execution_count": 29,
   "id": "2bee28b6",
   "metadata": {},
   "outputs": [
    {
     "data": {
      "text/plain": [
       "LinearRegression()"
      ]
     },
     "execution_count": 29,
     "metadata": {},
     "output_type": "execute_result"
    }
   ],
   "source": [
    "model.fit(temp,perf)"
   ]
  },
  {
   "cell_type": "code",
   "execution_count": 30,
   "id": "e33806b4",
   "metadata": {},
   "outputs": [
    {
     "name": "stdout",
     "output_type": "stream",
     "text": [
      "[[0.69337525]] [3.88578059e-16]\n"
     ]
    }
   ],
   "source": [
    "print(model.coef_, model.intercept_)"
   ]
  },
  {
   "cell_type": "markdown",
   "id": "3a0973ac",
   "metadata": {},
   "source": [
    "### Question15: \n",
    "Scenario: A study is conducted to compare the preferences of two groups of participants. The preferences are measured on a Likert scale from 1 to 5. The data collected is as follows:</br>\n",
    "    Group A: [4, 3, 5, 2, 4]</br>\n",
    "    Group B: [3, 2, 4, 3, 3]</br>\n",
    "    Perform a Mann-Whitney U test to determine if there is a significant difference in the median preferences between the two groups.\n"
   ]
  },
  {
   "cell_type": "markdown",
   "id": "5dd307bf",
   "metadata": {},
   "source": [
    "Null Hypothesis: There is no significant difference in the median preferences between the two groups.</br>\n",
    "Alternate Hypothesis:There is significant difference in the median preferences between the two groups."
   ]
  },
  {
   "cell_type": "code",
   "execution_count": 31,
   "id": "f0aa0ebd",
   "metadata": {},
   "outputs": [],
   "source": [
    "group_A = np.array([4, 3, 5, 2, 4])\n",
    "group_B = np.array([3, 2, 4, 3, 3])"
   ]
  },
  {
   "cell_type": "code",
   "execution_count": 32,
   "id": "623cd28b",
   "metadata": {},
   "outputs": [],
   "source": [
    "stat,p_value = stats.mannwhitneyu(group_A, group_B)"
   ]
  },
  {
   "cell_type": "code",
   "execution_count": 33,
   "id": "2e87fef1",
   "metadata": {},
   "outputs": [
    {
     "data": {
      "text/plain": [
       "0.380836480306712"
      ]
     },
     "execution_count": 33,
     "metadata": {},
     "output_type": "execute_result"
    }
   ],
   "source": [
    "p_value"
   ]
  },
  {
   "cell_type": "code",
   "execution_count": 34,
   "id": "fb213c61",
   "metadata": {},
   "outputs": [
    {
     "name": "stdout",
     "output_type": "stream",
     "text": [
      "Fail to reject the null hypothesis.\n"
     ]
    }
   ],
   "source": [
    "alpha = 0.05\n",
    "\n",
    "if p_value < alpha:\n",
    "    print(\"Reject the null hypothesis.\")\n",
    "else:\n",
    "    print(\"Fail to reject the null hypothesis.\")"
   ]
  },
  {
   "cell_type": "markdown",
   "id": "0ec012d6",
   "metadata": {},
   "source": [
    "### Question16: \n",
    "A company wants to analyze the distribution of customer ages. The data collected is as follows:</br>\n",
    "    [25, 30, 35, 40, 45, 50, 55, 60, 65, 70]</br>\n",
    "    Calculate the interquartile range (IQR) of the ages.</br>\n"
   ]
  },
  {
   "cell_type": "code",
   "execution_count": 35,
   "id": "281f9551",
   "metadata": {},
   "outputs": [],
   "source": [
    "data = np.array([25, 30, 35, 40, 45, 50, 55, 60, 65, 70])"
   ]
  },
  {
   "cell_type": "code",
   "execution_count": 36,
   "id": "b7cca178",
   "metadata": {},
   "outputs": [],
   "source": [
    "iqr = stats.iqr(data)"
   ]
  },
  {
   "cell_type": "code",
   "execution_count": 37,
   "id": "4ead8dee",
   "metadata": {},
   "outputs": [
    {
     "data": {
      "text/plain": [
       "22.5"
      ]
     },
     "execution_count": 37,
     "metadata": {},
     "output_type": "execute_result"
    }
   ],
   "source": [
    "iqr"
   ]
  },
  {
   "cell_type": "markdown",
   "id": "bbad85a9",
   "metadata": {},
   "source": [
    "### Question17: \n",
    "Scenario: A study is conducted to compare the performance of three different machine learning algorithms. The accuracy scores for each algorithm are as follows:</br>\n",
    "    Algorithm A: [0.85, 0.80, 0.82, 0.87, 0.83]</br>\n",
    "    Algorithm B: [0.78, 0.82, 0.84, 0.80, 0.79]</br>\n",
    "    Algorithm C: [0.90, 0.88, 0.89, 0.86, 0.87]</br>\n",
    "    Perform a Kruskal-Wallis test to determine if there is a significant difference in the median accuracy scores between the algorithms.\n"
   ]
  },
  {
   "cell_type": "markdown",
   "id": "6c3cdbbf",
   "metadata": {},
   "source": [
    "Null Hypothesis: There is no differnce between the median accuracy scores between the algorithms.</br>\n",
    "Alternate Hypothesis: There is significant difference between median accuracy scores between the algorithms."
   ]
  },
  {
   "cell_type": "code",
   "execution_count": 38,
   "id": "7643a264",
   "metadata": {},
   "outputs": [],
   "source": [
    " a = np.array([0.85, 0.80, 0.82, 0.87, 0.83])\n",
    "b = np.array([0.78, 0.82, 0.84, 0.80, 0.79])\n",
    "c = np.array([0.90, 0.88, 0.89, 0.86, 0.87])"
   ]
  },
  {
   "cell_type": "code",
   "execution_count": 40,
   "id": "6c4ba458",
   "metadata": {},
   "outputs": [],
   "source": [
    "stat,p_value = stats.kruskal(a,b,c)"
   ]
  },
  {
   "cell_type": "code",
   "execution_count": 41,
   "id": "3ba25996",
   "metadata": {},
   "outputs": [
    {
     "data": {
      "text/plain": [
       "0.007840333026249539"
      ]
     },
     "execution_count": 41,
     "metadata": {},
     "output_type": "execute_result"
    }
   ],
   "source": [
    "p_value"
   ]
  },
  {
   "cell_type": "code",
   "execution_count": 42,
   "id": "f934b73d",
   "metadata": {},
   "outputs": [
    {
     "name": "stdout",
     "output_type": "stream",
     "text": [
      "Reject the null hypothesis.\n"
     ]
    }
   ],
   "source": [
    "alpha = 0.05\n",
    "\n",
    "if p_value < alpha:\n",
    "    print(\"Reject the null hypothesis.\")\n",
    "else:\n",
    "    print(\"Fail to reject the null hypothesis.\")"
   ]
  },
  {
   "cell_type": "markdown",
   "id": "f3d1ca06",
   "metadata": {},
   "source": [
    "### Question18: \n",
    "Scenario: A company wants to analyze the effect of price on sales. The data collected is as follows:</br>\n",
    "    Price (in dollars): [10, 15, 12, 8, 14]</br>\n",
    "    Sales: [100, 80, 90, 110, 95]</br>\n",
    "    Perform a simple linear regression to predict sales based on price.\n"
   ]
  },
  {
   "cell_type": "code",
   "execution_count": 44,
   "id": "05416b39",
   "metadata": {},
   "outputs": [],
   "source": [
    "price = np.array([10, 15, 12, 8, 14]).reshape(-1,1)\n",
    "sales = np.array([100, 80, 90, 110, 95]).reshape(-1,1)"
   ]
  },
  {
   "cell_type": "code",
   "execution_count": 45,
   "id": "c61146d8",
   "metadata": {},
   "outputs": [],
   "source": [
    "price = StandardScaler().fit_transform(price)\n",
    "sales = StandardScaler().fit_transform(sales)"
   ]
  },
  {
   "cell_type": "code",
   "execution_count": 46,
   "id": "0c3c328f",
   "metadata": {},
   "outputs": [],
   "source": [
    "my_model = LinearRegression()"
   ]
  },
  {
   "cell_type": "code",
   "execution_count": 47,
   "id": "7a869517",
   "metadata": {},
   "outputs": [
    {
     "data": {
      "text/plain": [
       "LinearRegression()"
      ]
     },
     "execution_count": 47,
     "metadata": {},
     "output_type": "execute_result"
    }
   ],
   "source": [
    "my_model.fit(price,sales)"
   ]
  },
  {
   "cell_type": "code",
   "execution_count": 48,
   "id": "6a1c2cb2",
   "metadata": {},
   "outputs": [
    {
     "data": {
      "text/plain": [
       "array([[-0.89799913]])"
      ]
     },
     "execution_count": 48,
     "metadata": {},
     "output_type": "execute_result"
    }
   ],
   "source": [
    "my_model.coef_"
   ]
  },
  {
   "cell_type": "code",
   "execution_count": 49,
   "id": "177e2c00",
   "metadata": {},
   "outputs": [
    {
     "data": {
      "text/plain": [
       "array([-2.79154207e-16])"
      ]
     },
     "execution_count": 49,
     "metadata": {},
     "output_type": "execute_result"
    }
   ],
   "source": [
    "my_model.intercept_"
   ]
  },
  {
   "cell_type": "markdown",
   "id": "21e5d5fc",
   "metadata": {},
   "source": [
    "### Question19: \n",
    "Scenario: A survey is conducted to measure the satisfaction levels of customers with a new product. The data collected is as follows:</br>\n",
    "    [7, 8, 9, 6, 8, 7, 9, 7, 8, 7]</br>\n",
    "    Calculate the standard error of the mean satisfaction score.\n"
   ]
  },
  {
   "cell_type": "code",
   "execution_count": null,
   "id": "33eb0da6",
   "metadata": {},
   "outputs": [],
   "source": [
    "data = np.array([7, 8, 9, 6, 8, 7, 9, 7, 8, 7])"
   ]
  },
  {
   "cell_type": "code",
   "execution_count": 50,
   "id": "b4bb2af6",
   "metadata": {},
   "outputs": [],
   "source": [
    "error = stats.sem(data)"
   ]
  },
  {
   "cell_type": "code",
   "execution_count": 51,
   "id": "ff6c300d",
   "metadata": {},
   "outputs": [
    {
     "data": {
      "text/plain": [
       "4.78713553878169"
      ]
     },
     "execution_count": 51,
     "metadata": {},
     "output_type": "execute_result"
    }
   ],
   "source": [
    "error"
   ]
  },
  {
   "cell_type": "markdown",
   "id": "74bb6bd3",
   "metadata": {},
   "source": [
    "### Question20:\n",
    "Scenario: A company wants to analyze the relationship between advertising expenditure and sales. The data collected is as follows:</br>\n",
    "    Advertising Expenditure (in thousands): [10, 15, 12, 8, 14]</br>\n",
    "    Sales (in thousands): [25, 30, 28, 20, 26]</br>\n",
    "    Perform a multiple regression analysis to predict sales based on advertising expenditure.\n"
   ]
  },
  {
   "cell_type": "code",
   "execution_count": 52,
   "id": "02160279",
   "metadata": {},
   "outputs": [],
   "source": [
    "exp = np.array([10, 15, 12, 8, 14]).reshape(-1,1)\n",
    "sales = np.array([25, 30, 28, 20, 26]).reshape(-1,1)"
   ]
  },
  {
   "cell_type": "code",
   "execution_count": 53,
   "id": "23357029",
   "metadata": {},
   "outputs": [],
   "source": [
    "model1 = LinearRegression()"
   ]
  },
  {
   "cell_type": "code",
   "execution_count": 54,
   "id": "1d4f84b9",
   "metadata": {},
   "outputs": [
    {
     "data": {
      "text/plain": [
       "LinearRegression()"
      ]
     },
     "execution_count": 54,
     "metadata": {},
     "output_type": "execute_result"
    }
   ],
   "source": [
    "model1.fit(exp,sales)"
   ]
  },
  {
   "cell_type": "code",
   "execution_count": 55,
   "id": "6c66223f",
   "metadata": {},
   "outputs": [
    {
     "data": {
      "text/plain": [
       "array([[1.15243902]])"
      ]
     },
     "execution_count": 55,
     "metadata": {},
     "output_type": "execute_result"
    }
   ],
   "source": [
    "model1.coef_"
   ]
  },
  {
   "cell_type": "code",
   "execution_count": 56,
   "id": "c2f087b6",
   "metadata": {},
   "outputs": [
    {
     "data": {
      "text/plain": [
       "array([12.20121951])"
      ]
     },
     "execution_count": 56,
     "metadata": {},
     "output_type": "execute_result"
    }
   ],
   "source": [
    "model1.intercept_"
   ]
  },
  {
   "cell_type": "code",
   "execution_count": null,
   "id": "f2e9ba80",
   "metadata": {},
   "outputs": [],
   "source": []
  }
 ],
 "metadata": {
  "kernelspec": {
   "display_name": "Python 3 (ipykernel)",
   "language": "python",
   "name": "python3"
  },
  "language_info": {
   "codemirror_mode": {
    "name": "ipython",
    "version": 3
   },
   "file_extension": ".py",
   "mimetype": "text/x-python",
   "name": "python",
   "nbconvert_exporter": "python",
   "pygments_lexer": "ipython3",
   "version": "3.9.12"
  }
 },
 "nbformat": 4,
 "nbformat_minor": 5
}

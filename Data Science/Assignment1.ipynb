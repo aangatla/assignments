{
 "cells": [
  {
   "cell_type": "markdown",
   "id": "57202d0c",
   "metadata": {},
   "source": [
    "### Question1: Write a Python program to reverse a string without using any built-in string reversal functions."
   ]
  },
  {
   "cell_type": "code",
   "execution_count": 1,
   "id": "09921a4d",
   "metadata": {},
   "outputs": [
    {
     "name": "stdout",
     "output_type": "stream",
     "text": [
      "Provide the string: hello\n",
      "Reversed string:  olleh\n"
     ]
    }
   ],
   "source": [
    "my_string= input(\"Provide the string: \")\n",
    "str=\"\"\n",
    "for i in my_string:\n",
    "    str=i+str\n",
    "print(\"Reversed string: \",str)"
   ]
  },
  {
   "cell_type": "markdown",
   "id": "a030664a",
   "metadata": {},
   "source": [
    "### Question2: Implement a function to check if a given string is a palindrome"
   ]
  },
  {
   "cell_type": "code",
   "execution_count": 2,
   "id": "12cdcc92",
   "metadata": {},
   "outputs": [
    {
     "name": "stdout",
     "output_type": "stream",
     "text": [
      "Provide string: level\n",
      "Yes\n"
     ]
    }
   ],
   "source": [
    "def palindrome(input):\n",
    "    return input == input[::-1]\n",
    " \n",
    "str = input(\"Provide string: \")\n",
    "\n",
    "ans = palindrome(str)\n",
    " \n",
    "if ans:\n",
    "    print(\"Yes\")\n",
    "else:\n",
    "    print(\"No\")"
   ]
  },
  {
   "cell_type": "markdown",
   "id": "18230183",
   "metadata": {},
   "source": [
    "### Question3: Write a program to find the largest element in a given list."
   ]
  },
  {
   "cell_type": "code",
   "execution_count": 5,
   "id": "d2242091",
   "metadata": {},
   "outputs": [
    {
     "name": "stdout",
     "output_type": "stream",
     "text": [
      "Enter the how many elements you want in the list: 5\n",
      "Enter the elements in the list: 12\n",
      "Enter the elements in the list: 45\n",
      "Enter the elements in the list: 2\n",
      "Enter the elements in the list: 34\n",
      "Enter the elements in the list: 11\n",
      "[12, 45, 2, 34, 11]\n",
      "45\n"
     ]
    }
   ],
   "source": [
    "input_list = []\n",
    "n = int(input(\"Enter the how many elements you want in the list: \"))\n",
    "\n",
    "for i in range(n):\n",
    "    x = int(input(\"Enter the elements in the list: \"))\n",
    "    input_list.append(x)\n",
    "    \n",
    "print(input_list)\n",
    "\n",
    "max_value = input_list[0]\n",
    "\n",
    "for i in input_list:\n",
    "    if i > max_value:\n",
    "        max_value = i\n",
    "\n",
    "print(max_value)\n"
   ]
  },
  {
   "cell_type": "markdown",
   "id": "6a61cae5",
   "metadata": {},
   "source": [
    "### Question4: Implement a function to count the occurrence of each element in a list."
   ]
  },
  {
   "cell_type": "code",
   "execution_count": 61,
   "id": "850977df",
   "metadata": {},
   "outputs": [
    {
     "data": {
      "text/plain": [
       "{10: 3, 20: 2, 30: 2, 40: 1}"
      ]
     },
     "execution_count": 61,
     "metadata": {},
     "output_type": "execute_result"
    }
   ],
   "source": [
    "\n",
    "def count_occ(items):\n",
    "    counts = {}\n",
    "\n",
    "\n",
    "    for item in items:\n",
    "        if item in counts:\n",
    "            counts[item] += 1\n",
    "        else:\n",
    "            counts[item] = 1\n",
    "    return counts\n",
    "\n",
    "items = [10,20,10,30,30,40,10,20]\n",
    "\n",
    "\n",
    "count_occ(items)"
   ]
  },
  {
   "cell_type": "markdown",
   "id": "be4b8491",
   "metadata": {},
   "source": [
    "### Question5: Write a Python program to find the second largest number in a list."
   ]
  },
  {
   "cell_type": "code",
   "execution_count": 17,
   "id": "69fbbf9c",
   "metadata": {},
   "outputs": [
    {
     "name": "stdout",
     "output_type": "stream",
     "text": [
      "Second highest number is :  56\n"
     ]
    }
   ],
   "source": [
    "list1 = [23,43,56,12,78,12]\n",
    "\n",
    "max = max(list1[0], list1[1])\n",
    "second_max = min(list1[0], list1[1])\n",
    "n = len(list1)\n",
    "for i in range(2,n):\n",
    "    if list1[i] > max:\n",
    "        second_max = max\n",
    "        max = list1[i]\n",
    "    elif list1[i] > second_max and max != list1[i]:\n",
    "         second_max = list1[i]\n",
    "    elif max == second_max and second_max != list1[i]:\n",
    "         second_max = list1[i]\n",
    " \n",
    "print(\"Second highest number is : \",second_max)\n",
    "      "
   ]
  },
  {
   "cell_type": "markdown",
   "id": "59f6f3e7",
   "metadata": {},
   "source": [
    "### Question6: Implement a function to remove duplicate elements from a list."
   ]
  },
  {
   "cell_type": "code",
   "execution_count": 56,
   "id": "dd353068",
   "metadata": {},
   "outputs": [
    {
     "name": "stdout",
     "output_type": "stream",
     "text": [
      "List before removing duplicates [10, 20, 10, 30, 20, 30, 40, 10, 100, 20]\n",
      "List After removing duplicates  [10, 20, 30, 40, 100]\n"
     ]
    }
   ],
   "source": [
    "def remove_duplicates(my_list):\n",
    "    list_without_duplicates = []\n",
    "    for i in my_list:\n",
    "        if i not in list_without_duplicates:\n",
    "            list_without_duplicates.append(i)\n",
    "    return list_without_duplicates\n",
    "\n",
    "\n",
    "my_list = [10,20,10,30,20,30,40,10,100,20]\n",
    "print(\"List before removing duplicates\", my_list)\n",
    "print(\"List After removing duplicates \", remove_duplicates(my_list))\n"
   ]
  },
  {
   "cell_type": "markdown",
   "id": "008c996f",
   "metadata": {},
   "source": [
    "### Question7: Write a program to calculate the factorial of a given number."
   ]
  },
  {
   "cell_type": "code",
   "execution_count": 20,
   "id": "50f553d2",
   "metadata": {},
   "outputs": [
    {
     "name": "stdout",
     "output_type": "stream",
     "text": [
      "Enter a number: 5\n",
      "The factorial of 5 is 120\n"
     ]
    }
   ],
   "source": [
    "\n",
    "num = int(input(\"Enter a number: \"))\n",
    "\n",
    "factorial = 1\n",
    "\n",
    "# check if the number is negative, positive or zero\n",
    "if num < 0:\n",
    "   print(\"Sorry, factorial does not exist for negative numbers\")\n",
    "elif num == 0:\n",
    "   print(\"The factorial of 0 is 1\")\n",
    "else:\n",
    "   for i in range(1,num + 1):\n",
    "       factorial = factorial*i\n",
    "   print(\"The factorial of\",num,\"is\",factorial)"
   ]
  },
  {
   "cell_type": "markdown",
   "id": "ed4c1885",
   "metadata": {},
   "source": [
    "### Question8: Implement a function to check if a given number is prime."
   ]
  },
  {
   "cell_type": "code",
   "execution_count": 54,
   "id": "decb80ec",
   "metadata": {},
   "outputs": [
    {
     "name": "stdout",
     "output_type": "stream",
     "text": [
      "Enter the number: 3\n",
      "3 is a prime number\n"
     ]
    }
   ],
   "source": [
    "def prime_num(num):\n",
    "    flag = False\n",
    "\n",
    "    if num == 1:\n",
    "        print(num, \"is not a prime number\")\n",
    "    elif num > 1:\n",
    "        # check for factors\n",
    "        for i in range(2, num):\n",
    "            if (num % i) == 0:\n",
    "                # if factor is found, set flag to True\n",
    "                flag = True\n",
    "                # break out of loop\n",
    "                break\n",
    "\n",
    "        # check if flag is True\n",
    "        if flag:\n",
    "            print(num, \"is not a prime number\")\n",
    "        else:\n",
    "            print(num, \"is a prime number\")\n",
    "num = int(input(\"Enter the number: \"))\n",
    "prime_num(num)"
   ]
  },
  {
   "cell_type": "markdown",
   "id": "ee1d57e2",
   "metadata": {},
   "source": [
    "### Question9: Write a Python program to sort a list of integers in ascending order."
   ]
  },
  {
   "cell_type": "code",
   "execution_count": 27,
   "id": "c3b4c747",
   "metadata": {},
   "outputs": [
    {
     "name": "stdout",
     "output_type": "stream",
     "text": [
      "List before sorting:  [23, 1, 34, 12, 100, 45, 66, 12]\n",
      "List after sorting: [1, 12, 12, 23, 34, 45, 66, 100]\n"
     ]
    }
   ],
   "source": [
    "list1 = [23,1,34,12,100,45,66,12]\n",
    "\n",
    "num = 0\n",
    "\n",
    "print(\"List before sorting: \", list1)\n",
    "\n",
    "for i in range(0, len(list1)):    \n",
    "    for j in range(i+1, len(list1)):    \n",
    "        if(list1[i] > list1[j]):    \n",
    "            num = list1[i];    \n",
    "            list1[i] = list1[j];    \n",
    "            list1[j] = num;\n",
    "print(\"List after sorting:\", list1)\n",
    "     "
   ]
  },
  {
   "cell_type": "markdown",
   "id": "202ea9f5",
   "metadata": {},
   "source": [
    "### Question10: Implement a function to find the sum of all numbers in a list."
   ]
  },
  {
   "cell_type": "code",
   "execution_count": 29,
   "id": "b7d795fe",
   "metadata": {},
   "outputs": [
    {
     "data": {
      "text/plain": [
       "150"
      ]
     },
     "execution_count": 29,
     "metadata": {},
     "output_type": "execute_result"
    }
   ],
   "source": [
    "def sum(input_list):\n",
    "    total = 0\n",
    "    for x in input_list:\n",
    "        total += x\n",
    "    return total\n",
    "\n",
    "list1 = [10,20,30,40,50]\n",
    "\n",
    "sum(list1)\n",
    "\n"
   ]
  },
  {
   "cell_type": "markdown",
   "id": "80e02ae2",
   "metadata": {},
   "source": [
    "### Question11: Write a program to find the common elements between two lists."
   ]
  },
  {
   "cell_type": "code",
   "execution_count": 16,
   "id": "69ac76ac",
   "metadata": {},
   "outputs": [
    {
     "name": "stdout",
     "output_type": "stream",
     "text": [
      "[10, 30, 50]\n"
     ]
    }
   ],
   "source": [
    "list1 = [10,20,30,40,50]\n",
    "list2 = [1,2,4,10,30,50]\n",
    "common_elements = []\n",
    "\n",
    "for i in list1:\n",
    "    for j in list2:\n",
    "        if j == i:\n",
    "            common_elements.append(j)\n",
    "print(common_elements)"
   ]
  },
  {
   "cell_type": "markdown",
   "id": "510e342f",
   "metadata": {},
   "source": [
    "### Question12: Implement a function to check if a given string is an anagram of another string."
   ]
  },
  {
   "cell_type": "code",
   "execution_count": 32,
   "id": "72aab124",
   "metadata": {},
   "outputs": [
    {
     "name": "stdout",
     "output_type": "stream",
     "text": [
      "aeiou and eioua are anagram.\n"
     ]
    }
   ],
   "source": [
    "def anagram(str1,str2):\n",
    "    # convert both the strings into lowercase\n",
    "    str1 = str1.lower()\n",
    "    str2 = str2.lower()\n",
    "\n",
    "    # check if length is same\n",
    "    if(len(str1) == len(str2)):\n",
    "\n",
    "        # sort the strings\n",
    "        sorted_str1 = sorted(str1)\n",
    "        sorted_str2 = sorted(str2)\n",
    "\n",
    "        # if sorted char arrays are same\n",
    "        if(sorted_str1 == sorted_str2):\n",
    "            print(str1 + \" and \" + str2 + \" are anagram.\")\n",
    "        else:\n",
    "            print(str1 + \" and \" + str2 + \" are not anagram.\")\n",
    "\n",
    "    else:\n",
    "        print(str1 + \" and \" + str2 + \" are not anagram.\")\n",
    "\n",
    "anagram(\"aeiou\", \"eioua\")"
   ]
  },
  {
   "cell_type": "markdown",
   "id": "5668ba9e",
   "metadata": {},
   "source": [
    "### Question13: Write a Python program to generate all permutations of a given string."
   ]
  },
  {
   "cell_type": "code",
   "execution_count": 1,
   "id": "53a74040",
   "metadata": {},
   "outputs": [
    {
     "name": "stdout",
     "output_type": "stream",
     "text": [
      "true\n",
      "treu\n",
      "ture\n",
      "tuer\n",
      "teur\n",
      "teru\n",
      "rtue\n",
      "rteu\n",
      "rute\n",
      "ruet\n",
      "reut\n",
      "retu\n",
      "urte\n",
      "uret\n",
      "utre\n",
      "uter\n",
      "uetr\n",
      "uert\n",
      "erut\n",
      "ertu\n",
      "eurt\n",
      "eutr\n",
      "etur\n",
      "etru\n"
     ]
    }
   ],
   "source": [
    "def permutate_string(string, i=0):\n",
    "\n",
    "    if i == len(string):    \n",
    "        print(\"\".join(string))\n",
    "\n",
    "    for j in range(i, len(string)):\n",
    "\n",
    "        words = [c for c in string]\n",
    "   \n",
    "        # swap\n",
    "        words[i], words[j] = words[j], words[i]\n",
    "    \n",
    "        permutate_string(words, i + 1)\n",
    "\n",
    "permutate_string('true')"
   ]
  },
  {
   "cell_type": "markdown",
   "id": "b35ca499",
   "metadata": {},
   "source": [
    "### Question14: Implement a function to calculate the Fibonacci sequence up to a given number of terms."
   ]
  },
  {
   "cell_type": "code",
   "execution_count": 41,
   "id": "d33819b1",
   "metadata": {},
   "outputs": [
    {
     "name": "stdout",
     "output_type": "stream",
     "text": [
      "Enter the integer value: 10\n",
      "Fibonacci sequence:\n",
      "0\n",
      "1\n",
      "1\n",
      "2\n",
      "3\n",
      "5\n",
      "8\n",
      "13\n",
      "21\n",
      "34\n"
     ]
    }
   ],
   "source": [
    "\n",
    "def fibonacci_seq(num):\n",
    "    # first two terms\n",
    "    n1, n2 = 0, 1\n",
    "    count = 0\n",
    "\n",
    "    # check if the number of terms is valid\n",
    "    if num <= 0:\n",
    "       print(\"Please enter a positive integer\")\n",
    "    # if there is only one term, return n1\n",
    "    elif num == 1:\n",
    "       print(\"Fibonacci sequence upto\",nterms,\":\")\n",
    "       print(n1)\n",
    "    # generate fibonacci sequence\n",
    "    else:\n",
    "       print(\"Fibonacci sequence:\")\n",
    "       while count < num:\n",
    "           print(n1)\n",
    "           nth = n1 + n2\n",
    "           # update values\n",
    "           n1 = n2\n",
    "           n2 = nth\n",
    "           count += 1\n",
    "\n",
    "num = int(input(\"Enter the integer value: \"))\n",
    "\n",
    "fibonacci_seq(num)"
   ]
  },
  {
   "cell_type": "markdown",
   "id": "c3738bbe",
   "metadata": {},
   "source": [
    "### Question15: Write a program to find the median of a list of numbers."
   ]
  },
  {
   "cell_type": "code",
   "execution_count": 44,
   "id": "8f92b0b6",
   "metadata": {},
   "outputs": [
    {
     "data": {
      "text/plain": [
       "10"
      ]
     },
     "execution_count": 44,
     "metadata": {},
     "output_type": "execute_result"
    }
   ],
   "source": [
    "def median_num(input_list):\n",
    "    input_list.sort()\n",
    "    l = len(input_list)\n",
    "    \n",
    "    mid = (l-1)//2\n",
    "    \n",
    "    if(l%2==0):\n",
    "        return (input_list[mid] + input_list[mid+1])/2\n",
    "    else:\n",
    "        return input_list[mid]\n",
    "\n",
    "input_list = [10,1,34,2,100]\n",
    "median_num(input_list)"
   ]
  },
  {
   "cell_type": "markdown",
   "id": "cbe0d7b8",
   "metadata": {},
   "source": [
    "### Question16: Implement a function to check if a given list is sorted in non-decreasing order."
   ]
  },
  {
   "cell_type": "code",
   "execution_count": 14,
   "id": "82ae62a5",
   "metadata": {},
   "outputs": [
    {
     "data": {
      "text/plain": [
       "'List is not sorted'"
      ]
     },
     "execution_count": 14,
     "metadata": {},
     "output_type": "execute_result"
    }
   ],
   "source": [
    "def sorted_list(list):\n",
    "    for i in range(1,len(list)):\n",
    "        if list[i] < list[i-1]:\n",
    "            return \"List is not sorted\"\n",
    "        \n",
    "    return \"List is sorted\"\n",
    "\n",
    "l1 = [10,30,20,30,40,100]\n",
    "sorted_list(l1)"
   ]
  },
  {
   "cell_type": "markdown",
   "id": "92c2764a",
   "metadata": {},
   "source": [
    "### Question17: Write a Python program to find the intersection of two lists."
   ]
  },
  {
   "cell_type": "code",
   "execution_count": 17,
   "id": "75642ea6",
   "metadata": {},
   "outputs": [
    {
     "name": "stdout",
     "output_type": "stream",
     "text": [
      "[40, 50]\n"
     ]
    }
   ],
   "source": [
    "list1 = [10, 20, 30, 40, 50]\n",
    "\n",
    "list2 = [40, 50, 60, 70, 80]\n",
    "\n",
    "intersected_list = []\n",
    "\n",
    "for element in list1:\n",
    "\n",
    "  if element in list2:\n",
    "\n",
    "      intersected_list.append(element)\n",
    "\n",
    "print(intersected_list)\n",
    " "
   ]
  },
  {
   "cell_type": "markdown",
   "id": "316df855",
   "metadata": {},
   "source": [
    "### Question18: Implement a function to find the maximum subarray sum in a given list."
   ]
  },
  {
   "cell_type": "code",
   "execution_count": 20,
   "id": "34fb147e",
   "metadata": {},
   "outputs": [
    {
     "name": "stdout",
     "output_type": "stream",
     "text": [
      "6\n"
     ]
    }
   ],
   "source": [
    "def maximumSubarraySum(arr):\n",
    "       n = len(arr)\n",
    "       maxSum = -1e8\n",
    "       currSum = 0\n",
    "\n",
    "       for i in range(0, n):\n",
    "           currSum = currSum + arr[i]\n",
    "           if(currSum > maxSum):\n",
    "               maxSum = currSum\n",
    "           if(currSum < 0):\n",
    "               currSum = 0\n",
    "      \n",
    "       return maxSum\n",
    "\n",
    "print(maximumSubarraySum([-2, -3, 4, -1, -2, 5, -3]));"
   ]
  },
  {
   "cell_type": "markdown",
   "id": "1d2f1f8a",
   "metadata": {},
   "source": [
    "### Question19: Write a program to remove all vowels from a given string."
   ]
  },
  {
   "cell_type": "code",
   "execution_count": 22,
   "id": "621f1e99",
   "metadata": {},
   "outputs": [
    {
     "name": "stdout",
     "output_type": "stream",
     "text": [
      "strng wth n vwl\n"
     ]
    }
   ],
   "source": [
    "string = 'string with no vowel'\n",
    "vowel = \"aeiou\"\n",
    "new_str = \"\"\n",
    "for i in string:\n",
    "    if i in vowel:\n",
    "        new_str = new_str + \"\"\n",
    "    else:\n",
    "        new_str = new_str + i\n",
    "\n",
    "print(new_str)\n",
    "        "
   ]
  },
  {
   "cell_type": "markdown",
   "id": "e6e9047a",
   "metadata": {},
   "source": [
    "### Question20: Implement a function to reverse the order of words in a given sentence."
   ]
  },
  {
   "cell_type": "code",
   "execution_count": 25,
   "id": "96d84d32",
   "metadata": {},
   "outputs": [
    {
     "data": {
      "text/plain": [
       "'gnihton'"
      ]
     },
     "execution_count": 25,
     "metadata": {},
     "output_type": "execute_result"
    }
   ],
   "source": [
    "def reverse_string(str):  \n",
    "    str1 = \"\"     \n",
    "    for i in str:  \n",
    "        str1 = i + str1  \n",
    "    return str1    \n",
    "\n",
    "reverse_string(\"nothing\")\n"
   ]
  },
  {
   "cell_type": "markdown",
   "id": "37160b6a",
   "metadata": {},
   "source": [
    "### Question21: Write a Python program to check if two strings are anagrams of each other."
   ]
  },
  {
   "cell_type": "code",
   "execution_count": 27,
   "id": "7d5f13a6",
   "metadata": {},
   "outputs": [
    {
     "data": {
      "text/plain": [
       "'str1 and str2 are anagram of each other'"
      ]
     },
     "execution_count": 27,
     "metadata": {},
     "output_type": "execute_result"
    }
   ],
   "source": [
    "def anagram_check(str1, str2):\n",
    "    str1 = sorted(str1.lower())\n",
    "    str2 =sorted(str2.lower())\n",
    "    if str1 == str2:\n",
    "        return \"str1\" + \" and\" + \" str2\" + \" are anagram of each other\"\n",
    "    else:\n",
    "        return \"str1\" + \" and\" + \" str2\" + \" are not anagram of each other\"\n",
    "anagram_check(\"hell\", \"lleh\")"
   ]
  },
  {
   "cell_type": "markdown",
   "id": "c797a9c5",
   "metadata": {},
   "source": [
    "### Question 22: Implement a function to find the first non-repeating character in a string."
   ]
  },
  {
   "cell_type": "code",
   "execution_count": 31,
   "id": "8b2fa06a",
   "metadata": {},
   "outputs": [
    {
     "name": "stdout",
     "output_type": "stream",
     "text": [
      "a\n",
      "d\n",
      "None\n"
     ]
    }
   ],
   "source": [
    "def first_non_repeating_char(string1):\n",
    "  char = []\n",
    "  str_dict = {}\n",
    "  for i in string1:\n",
    "    if i in str_dict:\n",
    "      str_dict[i] += 1\n",
    "    else:\n",
    "      str_dict[i] = 1 \n",
    "      char.append(i)\n",
    "  for i in char:\n",
    "    if str_dict[i] == 1:\n",
    "      return i\n",
    "  return None\n",
    "\n",
    "print(first_non_repeating_char('abcdef'))\n",
    "print(first_non_repeating_char('abcabcdef'))\n",
    "print(first_non_repeating_char('aabbcc'))\n"
   ]
  },
  {
   "cell_type": "markdown",
   "id": "d0679610",
   "metadata": {},
   "source": [
    "### Question23: Write a program to find the prime factors of a given number."
   ]
  },
  {
   "cell_type": "code",
   "execution_count": 35,
   "id": "0c6778cd",
   "metadata": {},
   "outputs": [
    {
     "name": "stdout",
     "output_type": "stream",
     "text": [
      " Please Enter any Number: 117\n",
      " 3 is a Prime Factor of a Given Number 117\n",
      " 13 is a Prime Factor of a Given Number 117\n"
     ]
    }
   ],
   "source": [
    "number = int(input(\" Please Enter any Number: \"))\n",
    "i = 1\n",
    "\n",
    "while(i <= number):\n",
    "    count = 0\n",
    "    if(number % i == 0):\n",
    "        j = 1\n",
    "        while(j <= i):\n",
    "            if(i % j == 0):\n",
    "                count = count + 1\n",
    "            j = j + 1\n",
    "            \n",
    "        if (count == 2):\n",
    "            print(\" %d is a Prime Factor of a Given Number %d\" %(i, number))\n",
    "    i = i + 1"
   ]
  },
  {
   "cell_type": "markdown",
   "id": "21dc465c",
   "metadata": {},
   "source": [
    "### Question24: Implement a function to check if a given number is a power of two."
   ]
  },
  {
   "cell_type": "code",
   "execution_count": 37,
   "id": "db621971",
   "metadata": {},
   "outputs": [
    {
     "name": "stdout",
     "output_type": "stream",
     "text": [
      "Enter a number: 3\n",
      "3 is not power of two\n"
     ]
    }
   ],
   "source": [
    "def is_power_of_two(n):\n",
    "\n",
    "    if n <= 0:\n",
    "        return False\n",
    "    else:\n",
    "        return n & (n - 1) == 0\n",
    " \n",
    " \n",
    "n = int(input('Enter a number: '))\n",
    " \n",
    "if is_power_of_two(n):\n",
    "    print(f\"{n} is power of two\")\n",
    "else:\n",
    "    print(f\"{n} is not power of two\")"
   ]
  },
  {
   "cell_type": "markdown",
   "id": "e12113c6",
   "metadata": {},
   "source": [
    "### Question25: Write a Python program to merge two sorted lists into a single sorted list."
   ]
  },
  {
   "cell_type": "code",
   "execution_count": 39,
   "id": "e385beff",
   "metadata": {},
   "outputs": [
    {
     "name": "stdout",
     "output_type": "stream",
     "text": [
      "[10, 11, 20, 21, 30, 31, 40, 41, 50, 51, 60]\n"
     ]
    }
   ],
   "source": [
    "list1 = [11,21,31,41,51]\n",
    "list2= [10,20,30,40,50,60]\n",
    "\n",
    "sorted_list =[]\n",
    "while list1 and list2:\n",
    "    if list1[0] <  list2[0]:\n",
    "        sorted_list.append(list1.pop(0))\n",
    "    else:\n",
    "        sorted_list.append(list2.pop(0))\n",
    "sorted_list += list1\n",
    "sorted_list += list2\n",
    "print(sorted_list)"
   ]
  },
  {
   "cell_type": "markdown",
   "id": "4158385c",
   "metadata": {},
   "source": [
    "### Question26: Implement a function to find the mode of a list of numbers.\n"
   ]
  },
  {
   "cell_type": "code",
   "execution_count": 41,
   "id": "bb91080e",
   "metadata": {},
   "outputs": [
    {
     "data": {
      "text/plain": [
       "[3]"
      ]
     },
     "execution_count": 41,
     "metadata": {},
     "output_type": "execute_result"
    }
   ],
   "source": [
    "def mode(list1):\n",
    "    counts = {}\n",
    "    \n",
    "    for item in list1:\n",
    "        if item in counts:\n",
    "            counts[item] += 1\n",
    "        else:\n",
    "            counts[item] = 1\n",
    "    return [key for key in counts.keys() if counts[key] == max(counts.values())]\n",
    "\n",
    "# use the function on a list of values\n",
    "mode([2,2,4,5,6,2,3,5,5,3,3,3])"
   ]
  },
  {
   "cell_type": "markdown",
   "id": "13a9adf0",
   "metadata": {},
   "source": [
    "### Question27: Write a program to find the greatest common divisor (GCD) of two numbers."
   ]
  },
  {
   "cell_type": "code",
   "execution_count": 42,
   "id": "29b137b8",
   "metadata": {},
   "outputs": [
    {
     "name": "stdout",
     "output_type": "stream",
     "text": [
      "The G.C.D is 24\n"
     ]
    }
   ],
   "source": [
    "def compute_gcd(x, y):\n",
    "\n",
    "    if x > y:\n",
    "        smaller = y\n",
    "    else:\n",
    "        smaller = x\n",
    "    for i in range(1, smaller+1):\n",
    "        if((x % i == 0) and (y % i == 0)):\n",
    "            gcd = i \n",
    "    return gcd\n",
    "\n",
    "num1 =  96\n",
    "num2 = 24\n",
    "\n",
    "print(\"The G.C.D is\", compute_gcd(num1, num2))"
   ]
  },
  {
   "cell_type": "markdown",
   "id": "971db339",
   "metadata": {},
   "source": [
    "### Question28: Implement a function to calculate the square root of a given number."
   ]
  },
  {
   "cell_type": "code",
   "execution_count": 44,
   "id": "81b56d02",
   "metadata": {},
   "outputs": [
    {
     "data": {
      "text/plain": [
       "2.0"
      ]
     },
     "execution_count": 44,
     "metadata": {},
     "output_type": "execute_result"
    }
   ],
   "source": [
    "def sqr_root(n):\n",
    "    if n >0:\n",
    "        return n**0.5\n",
    "sqr_root(4)"
   ]
  },
  {
   "cell_type": "markdown",
   "id": "adbd7dce",
   "metadata": {},
   "source": [
    "### Question29: Write a Python program to check if a given string is a valid palindrome ignoring non-alphanumeric characters."
   ]
  },
  {
   "cell_type": "code",
   "execution_count": 4,
   "id": "a28cfc3b",
   "metadata": {},
   "outputs": [
    {
     "data": {
      "text/plain": [
       "True"
      ]
     },
     "execution_count": 4,
     "metadata": {},
     "output_type": "execute_result"
    }
   ],
   "source": [
    "def valid_palindrome(string):\n",
    "    left = 0\n",
    "    right = len(string)-1\n",
    "\n",
    "    while left < right:\n",
    "        # Step 1\n",
    "        while left < right and not string[left].isalnum():\n",
    "            left += 1\n",
    "        #Step 2\n",
    "        while left < right and not string[right].isalnum():\n",
    "            right -= 1\n",
    "\n",
    "        # Steps 3 and 4\n",
    "        if string[left].lower() != string[right].lower():\n",
    "            return False\n",
    "        else:\n",
    "            left += 1\n",
    "            right -= 1\n",
    "\n",
    "    # Step 6\n",
    "    return True\n",
    "valid_palindrome(\"lev el\")"
   ]
  },
  {
   "cell_type": "markdown",
   "id": "297552dd",
   "metadata": {},
   "source": [
    "### Question30: Implement a function to find the minimum element in a rotated sorted list."
   ]
  },
  {
   "cell_type": "code",
   "execution_count": 50,
   "id": "f50d130d",
   "metadata": {},
   "outputs": [
    {
     "name": "stdout",
     "output_type": "stream",
     "text": [
      "12\n"
     ]
    }
   ],
   "source": [
    "def findMin(arr, N):\n",
    "    min_ele = arr[0];\n",
    "  \n",
    "    for i in range(N):\n",
    "        if arr[i] < min_ele :\n",
    "            min_ele = arr[i]\n",
    "    return min_ele;\n",
    "\n",
    "arr = [55,66,12,44,12]\n",
    "N = len(arr)\n",
    "print(findMin(arr,N))"
   ]
  },
  {
   "cell_type": "markdown",
   "id": "392f7ede",
   "metadata": {},
   "source": [
    "### Question31: Write a program to find the sum of all even numbers in a list."
   ]
  },
  {
   "cell_type": "code",
   "execution_count": 53,
   "id": "3a2673ea",
   "metadata": {},
   "outputs": [
    {
     "data": {
      "text/plain": [
       "42"
      ]
     },
     "execution_count": 53,
     "metadata": {},
     "output_type": "execute_result"
    }
   ],
   "source": [
    "def sum_even(ls):\n",
    "    sum = 0\n",
    "    for i in range(len(ls)):\n",
    "        if ls[i]%2 == 0:\n",
    "            sum = sum + ls[i]\n",
    "    return sum\n",
    "\n",
    "\n",
    "ls = [11,12,13,14,15,16]\n",
    "sum_even(ls)\n"
   ]
  },
  {
   "cell_type": "markdown",
   "id": "c9394ae2",
   "metadata": {},
   "source": [
    "### Question32:  Implement a function to calculate the power of a number using recursion."
   ]
  },
  {
   "cell_type": "code",
   "execution_count": 60,
   "id": "4185ebe8",
   "metadata": {},
   "outputs": [
    {
     "name": "stdout",
     "output_type": "stream",
     "text": [
      "Enter number: 6\n",
      "Enter power value: 3\n",
      "Result: 216\n"
     ]
    }
   ],
   "source": [
    "def power(num,pow):\n",
    "    if(pow==1):\n",
    "        return(num)\n",
    "    if(pow!=1):\n",
    "        return(num*power(num,pow-1))\n",
    "num=int(input(\"Enter number: \"))\n",
    "pow=int(input(\"Enter power value: \"))\n",
    "print(\"Result:\",power(num,pow))\n"
   ]
  },
  {
   "cell_type": "markdown",
   "id": "4655e432",
   "metadata": {},
   "source": [
    "### Question33: Write a Python program to remove duplicates from a list while preserving the order"
   ]
  },
  {
   "cell_type": "code",
   "execution_count": 62,
   "id": "3b0164a7",
   "metadata": {},
   "outputs": [
    {
     "name": "stdout",
     "output_type": "stream",
     "text": [
      "[1, 5, 9, 6, 7]\n"
     ]
    }
   ],
   "source": [
    "initial = [1, 1,5, 9, 1, 9,5, 6, 9, 7]\n",
    "result = []\n",
    "for item in initial:\n",
    "    if item not in result:\n",
    "        result.append(item)\n",
    "print(result)"
   ]
  },
  {
   "cell_type": "markdown",
   "id": "0b8fceff",
   "metadata": {},
   "source": [
    "### Question34:Implement a function to find the longest common prefix among a list of strings."
   ]
  },
  {
   "cell_type": "code",
   "execution_count": 67,
   "id": "3febd5c3",
   "metadata": {},
   "outputs": [
    {
     "name": "stdout",
     "output_type": "stream",
     "text": [
      "abc\n",
      "anti\n",
      "\n"
     ]
    }
   ],
   "source": [
    "def longest_Common_Prefix(str1):\n",
    "    \n",
    "    if not str1:\n",
    "        return \"\"\n",
    "\n",
    "    short_str = min(str1,key=len)\n",
    "\n",
    "    for i, char in enumerate(short_str):\n",
    "        for other in str1:\n",
    "            if other[i] != char:\n",
    "                return short_str[:i]\n",
    "\n",
    "    return short_str \n",
    "\n",
    "print(longest_Common_Prefix([\"abcdefgh\",\"abcefgh\"]))\n",
    "print(longest_Common_Prefix(['antigravity', \"antipollutant\", \"antimatter\"]))\n",
    "print(longest_Common_Prefix([\"Python\",\"PHP\", \"Java\"]))\n",
    "\n"
   ]
  },
  {
   "cell_type": "markdown",
   "id": "01519f51",
   "metadata": {},
   "source": [
    "### Question35:Write a program to check if a given number is a perfect square."
   ]
  },
  {
   "cell_type": "code",
   "execution_count": 71,
   "id": "6b54e97c",
   "metadata": {},
   "outputs": [
    {
     "name": "stdout",
     "output_type": "stream",
     "text": [
      "False\n",
      "True\n"
     ]
    }
   ],
   "source": [
    "def perfect_square(n):  \n",
    "    i = 1  \n",
    "    while i * i <= n:  \n",
    "        if i * i == n:  \n",
    "            return True  \n",
    "        i += 1  \n",
    "    return False  \n",
    "print(perfect_square(54))\n",
    "print(perfect_square(36))"
   ]
  },
  {
   "cell_type": "markdown",
   "id": "0a7bf9c8",
   "metadata": {},
   "source": [
    "### Question36:Implement a function to calculate the product of all elements in a list."
   ]
  },
  {
   "cell_type": "code",
   "execution_count": 72,
   "id": "44607685",
   "metadata": {},
   "outputs": [
    {
     "data": {
      "text/plain": [
       "120"
      ]
     },
     "execution_count": 72,
     "metadata": {},
     "output_type": "execute_result"
    }
   ],
   "source": [
    "def list_prod(ls):\n",
    "    prod = 1\n",
    "    for i in ls:\n",
    "        prod = i*prod\n",
    "    return prod\n",
    "ls = [1,2,3,4,5]\n",
    "list_prod(ls)"
   ]
  },
  {
   "cell_type": "markdown",
   "id": "18b9ab14",
   "metadata": {},
   "source": [
    "### Question37: Write a Python program to reverse the order of words in a sentence while preserving the word order."
   ]
  },
  {
   "cell_type": "code",
   "execution_count": 73,
   "id": "9a49ab53",
   "metadata": {},
   "outputs": [
    {
     "name": "stdout",
     "output_type": "stream",
     "text": [
      "olleH I ma ton gniog ereht\n"
     ]
    }
   ],
   "source": [
    "str = \"Hello I am not going there\"\n",
    "list_str = str.split(\" \")\n",
    "new_list = []\n",
    "for i in list_str:\n",
    "    i = i[::-1]\n",
    "    new_list.append(i)\n",
    "\n",
    "new_str = \" \".join(new_list)\n",
    "print(new_str)\n",
    "    "
   ]
  },
  {
   "cell_type": "markdown",
   "id": "9d8051d1",
   "metadata": {},
   "source": [
    "### Question38:Implement a function to find the missing number in a given list of consecutive numbers."
   ]
  },
  {
   "cell_type": "code",
   "execution_count": 74,
   "id": "b7edd7b0",
   "metadata": {},
   "outputs": [
    {
     "data": {
      "text/plain": [
       "[12]"
      ]
     },
     "execution_count": 74,
     "metadata": {},
     "output_type": "execute_result"
    }
   ],
   "source": [
    "def find_missing(ls):\n",
    "    missing_elements = []\n",
    "    for ele in range(ls[0], ls[-1]+1):\n",
    "        if ele not in ls:\n",
    "            missing_elements.append(ele)\n",
    "    return missing_elements\n",
    "\n",
    "\n",
    "ls = [10,11,13,14,15,16]\n",
    "\n",
    "find_missing(ls)\n",
    "   \n",
    "\n",
    "        "
   ]
  },
  {
   "cell_type": "markdown",
   "id": "4410cdc0",
   "metadata": {},
   "source": [
    "### Question39:Write a program to find the sum of digits of a given number."
   ]
  },
  {
   "cell_type": "code",
   "execution_count": 75,
   "id": "d51ce03d",
   "metadata": {},
   "outputs": [
    {
     "name": "stdout",
     "output_type": "stream",
     "text": [
      "Enter Number: 345678\n",
      "33\n"
     ]
    }
   ],
   "source": [
    "num = input(\"Enter Number: \")\n",
    "sum = 0\n",
    "\n",
    "for i in num:\n",
    "    sum = sum + int(i)\n",
    "\n",
    "print(sum)"
   ]
  },
  {
   "cell_type": "markdown",
   "id": "f04593fd",
   "metadata": {},
   "source": [
    "### Question40:Implement a function to check if a given string is a valid palindrome considering case sensitivity."
   ]
  },
  {
   "cell_type": "code",
   "execution_count": 19,
   "id": "cd5e932e",
   "metadata": {},
   "outputs": [
    {
     "name": "stdout",
     "output_type": "stream",
     "text": [
      "Enter the string: Level\n"
     ]
    },
    {
     "data": {
      "text/plain": [
       "'string is not palindrome'"
      ]
     },
     "execution_count": 19,
     "metadata": {},
     "output_type": "execute_result"
    }
   ],
   "source": [
    "def palindrome_str(string):\n",
    "    reversed_string = \"\"\n",
    "    for i in string:\n",
    "        reversed_string = i + reversed_string\n",
    "\n",
    "    if string == reversed_string:\n",
    "        return \"The string is palindrome\"\n",
    "    else:\n",
    "        return 'string is not palindrome'\n",
    "\n",
    "string = input(\"Enter the string: \")\n",
    "palindrome_str(string)\n"
   ]
  },
  {
   "cell_type": "markdown",
   "id": "b252fe69",
   "metadata": {},
   "source": [
    "### Question41:Write a Python program to find the smallest missing positive integer in a list."
   ]
  },
  {
   "cell_type": "code",
   "execution_count": 31,
   "id": "ac834af8",
   "metadata": {},
   "outputs": [
    {
     "data": {
      "text/plain": [
       "2"
      ]
     },
     "execution_count": 31,
     "metadata": {},
     "output_type": "execute_result"
    }
   ],
   "source": [
    "def findmissingPositive(ls):\n",
    "    if not ls: \n",
    "        return 1\n",
    "    ls = set(ls) \n",
    "    for i in range(1, len(ls) + 2):\n",
    "        if i not in ls: \n",
    "            return i\n",
    "\n",
    "findmissingPositive([-1,1,3,-2,5,6])"
   ]
  },
  {
   "cell_type": "markdown",
   "id": "16dc1281",
   "metadata": {},
   "source": [
    "### Question42:Implement a function to find the longest palindrome substring in a given string."
   ]
  },
  {
   "cell_type": "code",
   "execution_count": 38,
   "id": "4426066a",
   "metadata": {},
   "outputs": [
    {
     "name": "stdout",
     "output_type": "stream",
     "text": [
      "madam\n"
     ]
    }
   ],
   "source": [
    "def find_longest_palindrome_substring(str):\n",
    "    longest = ''\n",
    "    n = len(str)\n",
    "    for i in range(n):\n",
    "        for j in range(i+1,n+1):\n",
    "            word = str[i:j]\n",
    "            if word == word[::-1]:\n",
    "                if len(word)>len(longest):\n",
    "                    longest = word          \n",
    "    return longest\n",
    "\n",
    "\n",
    "print(find_longest_palindrome_substring('locoannamadam'))\n"
   ]
  },
  {
   "cell_type": "markdown",
   "id": "0e4e4ad7",
   "metadata": {},
   "source": [
    "### Question43:Write a program to find the number of occurrences of a given element in a list."
   ]
  },
  {
   "cell_type": "code",
   "execution_count": 42,
   "id": "82106671",
   "metadata": {},
   "outputs": [
    {
     "data": {
      "text/plain": [
       "4"
      ]
     },
     "execution_count": 42,
     "metadata": {},
     "output_type": "execute_result"
    }
   ],
   "source": [
    "def count_occurrence(list, n):\n",
    "    \n",
    "#counter variable\n",
    "    count=0\n",
    "    for i in list:\n",
    "        if(i==n):\n",
    "          #update counter variable\n",
    "            count=count+1\n",
    "    return count\n",
    "\n",
    "list = [10,20,20,30,10,20,100,20]\n",
    "n = 20\n",
    "count_occurrence(list,n)"
   ]
  },
  {
   "cell_type": "markdown",
   "id": "ecbb2c7e",
   "metadata": {},
   "source": [
    "### Question44:Implement a function to check if a given number is a perfect number."
   ]
  },
  {
   "cell_type": "code",
   "execution_count": 51,
   "id": "c07b8c49",
   "metadata": {},
   "outputs": [
    {
     "name": "stdout",
     "output_type": "stream",
     "text": [
      "Enter any number: 496\n",
      "The number is a perfect number!\n"
     ]
    }
   ],
   "source": [
    "def perfect_num(n):\n",
    "    sum1 = 0\n",
    "    for i in range(1, n):\n",
    "        if(n % i == 0):\n",
    "            sum1 = sum1 + i\n",
    "    if (sum1 == n):\n",
    "        print(\"The number is a perfect number!\")\n",
    "    else:\n",
    "        print(\"The number is not a perfect number!\")\n",
    "n = int(input(\"Enter any number: \"))\n",
    "\n",
    "perfect_num(n)"
   ]
  },
  {
   "cell_type": "markdown",
   "id": "4abe6143",
   "metadata": {},
   "source": [
    "### Question45:Write a Python program to remove all duplicates from a string."
   ]
  },
  {
   "cell_type": "code",
   "execution_count": 46,
   "id": "c80bb4dc",
   "metadata": {},
   "outputs": [
    {
     "name": "stdout",
     "output_type": "stream",
     "text": [
      "Enter a String: \n",
      "hello\n",
      "\n",
      "Original String: hello\n",
      "New String: helo\n"
     ]
    }
   ],
   "source": [
    "print(\"Enter a String: \")\n",
    "str = input()\n",
    "\n",
    "strlist = []\n",
    "for i in range(len(str)):\n",
    "    strlist.append(str[i])\n",
    "\n",
    "newlist = []\n",
    "j = 0\n",
    "for i in range(len(strlist)):\n",
    "    if str[i] not in newlist:\n",
    "        newlist.insert(j, str[i])\n",
    "        j = j+1\n",
    "\n",
    "print(\"\\nOriginal String:\", str)\n",
    "\n",
    "str = \"\"\n",
    "str = str.join(newlist)\n",
    "print(\"New String:\", str)"
   ]
  },
  {
   "cell_type": "markdown",
   "id": "8d0c98cd",
   "metadata": {},
   "source": [
    "### Question46:Implement a function to find the first missing positive."
   ]
  },
  {
   "cell_type": "code",
   "execution_count": 48,
   "id": "c05785b0",
   "metadata": {},
   "outputs": [
    {
     "name": "stdout",
     "output_type": "stream",
     "text": [
      "3\n",
      "8\n"
     ]
    }
   ],
   "source": [
    "def first_missing_number(nums):\n",
    "    if len(nums) == 0:\n",
    "        return 1\n",
    "        \n",
    "    nums.sort()\n",
    "    smallest_int_num = 0\n",
    "    \n",
    "    for i in range(len(nums) - 1):\n",
    "\n",
    "        if nums[i] <= 0 or nums[i] == nums[i + 1]:\n",
    "            continue\n",
    "        else:\n",
    "            if nums[i + 1] - nums[i] != 1:\n",
    "                smallest_int_num = nums[i] + 1\n",
    "                return smallest_int_num    \n",
    "    if smallest_int_num == 0:\n",
    "        smallest_int_num = nums[-1] + 1\n",
    "    return smallest_int_num\n",
    "\n",
    "print(first_missing_number([2, 10,4,5,-1,-10, 15, 16])) \n",
    "print(first_missing_number([1, 2, 3, 4, 5, 6, 7]))\n"
   ]
  },
  {
   "cell_type": "code",
   "execution_count": null,
   "id": "6717ae5e",
   "metadata": {},
   "outputs": [],
   "source": []
  }
 ],
 "metadata": {
  "kernelspec": {
   "display_name": "Python 3 (ipykernel)",
   "language": "python",
   "name": "python3"
  },
  "language_info": {
   "codemirror_mode": {
    "name": "ipython",
    "version": 3
   },
   "file_extension": ".py",
   "mimetype": "text/x-python",
   "name": "python",
   "nbconvert_exporter": "python",
   "pygments_lexer": "ipython3",
   "version": "3.9.12"
  }
 },
 "nbformat": 4,
 "nbformat_minor": 5
}

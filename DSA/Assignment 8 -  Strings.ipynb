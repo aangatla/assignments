{
 "cells": [
  {
   "cell_type": "markdown",
   "id": "9135a49e",
   "metadata": {},
   "source": [
    "## Assignment: 8  Strings"
   ]
  },
  {
   "cell_type": "code",
   "execution_count": null,
   "id": "de141bc4",
   "metadata": {},
   "outputs": [],
   "source": [
    "Question 1\n",
    "\n",
    "Given two strings s1 and s2, return *the lowest ASCII sum of deleted characters to \n",
    "make two strings equal*.\n",
    "\n",
    "Example 1:\n",
    "\n",
    "Input: s1 = \"sea\", s2 = \"eat\"\n",
    "\n",
    "Output: 231\n",
    "\n",
    "Explanation: Deleting \"s\" from \"sea\" adds the ASCII value of \"s\" (115) to the sum.\n",
    "\n",
    "Deleting \"t\" from \"eat\" adds 116 to the sum.\n",
    "\n",
    "At the end, both strings are equal, and 115 + 116 = 231 is the minimum sum possible to achieve this.\n",
    "\n",
    "\n",
    "Solution:\n",
    "    \n",
    "Method 1: dp[i][j]: the minimum asc ii for have same string for s[0:i] and t[0: j] AC 97%\n",
    "Initialization: dp[0][0] = 0. Nothing need to delete.\n",
    "dp[0][i] = char at s2, dp[i][0] = char at s1. Remove all characters from a string to reach a empty one.\n",
    "State transfer function:\n",
    "if characters are the same: dp[i][j] = dp[i - 1][j - 1]\n",
    "if not the same:\n",
    "remove both of current characters: dp[i - 1][j - 1] + s1[i - 1] + s2[j - 1]\n",
    "remove one character from either string: dp[i - 1][j] + s1[i - 1] && dp[i][j - 1] + s2[j - 1].\n",
    "select the minimum from the three methods.\n",
    "\n"
   ]
  },
  {
   "cell_type": "code",
   "execution_count": 1,
   "id": "81e07997",
   "metadata": {},
   "outputs": [],
   "source": [
    "class Solution:\n",
    "    def minimumDeleteSum(self, s1: str, s2: str) -> int:\n",
    "        m = len(s1)\n",
    "        n = len(s2)\n",
    "        \n",
    "        dp = [[0 for i in range(len(s1) + 1)] for j in range(len(s2) + 1)]\n",
    "\n",
    "        for i in range(len(s2) + 1):\n",
    "            for j in range(len(s1) + 1):\n",
    "                if i == 0 and j == 0: \n",
    "                    continue\n",
    "                elif i == 0:\n",
    "                    dp[i][j] += dp[i][j-1] + ord(s1[j-1])\n",
    "                elif j  == 0:\n",
    "                    dp[i][j] += dp[i-1][j] + ord(s2[i-1])\n",
    "                elif s1[j-1] == s2[i-1]:\n",
    "                    dp[i][j] = dp[i-1][j-1]\n",
    "                else:\n",
    "                    dp[i][j] = min(ord(s1[j-1]) + dp[i][j-1], ord(s2[i-1]) + dp[i-1][j])\n",
    "        \n",
    "        return dp[n][m]\n",
    "\n",
    "\n"
   ]
  },
  {
   "cell_type": "code",
   "execution_count": 2,
   "id": "195f6e9f",
   "metadata": {},
   "outputs": [
    {
     "data": {
      "text/plain": [
       "231"
      ]
     },
     "execution_count": 2,
     "metadata": {},
     "output_type": "execute_result"
    }
   ],
   "source": [
    "solution = Solution()\n",
    "s1 = \"sea\"\n",
    "s2 = \"eat\"\n",
    "solution.minimumDeleteSum(s1,s2)"
   ]
  },
  {
   "cell_type": "code",
   "execution_count": null,
   "id": "11962b68",
   "metadata": {},
   "outputs": [],
   "source": [
    "Question 2\n",
    "\n",
    "Given a string s containing only three types of characters: '(', ')' and '*', return true if s is valid.\n",
    "\n",
    "The following rules define a valid string:\n",
    "\n",
    "- Any left parenthesis '(' must have a corresponding right parenthesis ')'.\n",
    "- Any right parenthesis ')' must have a corresponding left parenthesis '('.\n",
    "- Left parenthesis '(' must go before the corresponding right parenthesis ')'.\n",
    "- '*' could be treated as a single right parenthesis ')' or a single left parenthesis \n",
    "   '(' or an empty string \"\".\n",
    "\n",
    "Example 1:\n",
    "\n",
    "Input: s = \"()\"\n",
    "\n",
    "Output:\n",
    "\n",
    "true\n"
   ]
  },
  {
   "cell_type": "code",
   "execution_count": 5,
   "id": "6b86fdb4",
   "metadata": {},
   "outputs": [],
   "source": [
    "\n",
    "\n",
    "class Solution:\n",
    "    def checkValidString(self, s):\n",
    "        st=[]\n",
    "        sr=[]\n",
    "        for i in range(len(s)):\n",
    "            if s[i]=='(':\n",
    "                st.append(i)\n",
    "            elif s[i]== '*':\n",
    "                sr.append(i)\n",
    "            else:\n",
    "                if st:\n",
    "                    st.pop()\n",
    "                elif sr:\n",
    "                    sr.pop()\n",
    "                else:\n",
    "                    return False\n",
    "        while st:\n",
    "            if len(sr)==0:\n",
    "                return False\n",
    "            elif st[-1]< sr[-1]:\n",
    "                st.pop()\n",
    "                sr.pop()\n",
    "            else:\n",
    "                return False\n",
    "        return True\n",
    "\n",
    "\n",
    "\n",
    "\n",
    "                \n",
    "\n",
    "            "
   ]
  },
  {
   "cell_type": "code",
   "execution_count": 6,
   "id": "fe960722",
   "metadata": {},
   "outputs": [
    {
     "data": {
      "text/plain": [
       "True"
      ]
     },
     "execution_count": 6,
     "metadata": {},
     "output_type": "execute_result"
    }
   ],
   "source": [
    "solution = Solution()\n",
    "s = \"()\"\n",
    "solution.checkValidString(s)"
   ]
  },
  {
   "cell_type": "code",
   "execution_count": null,
   "id": "b24e8365",
   "metadata": {},
   "outputs": [],
   "source": [
    "Question 3\n",
    "\n",
    "Given two strings word1 and word2, return the minimum number of steps required to \n",
    "make word1 and word2 the same.\n",
    "\n",
    "In one step, you can delete exactly one character in either string.\n",
    "\n",
    "Example 1: \n",
    "\n",
    "Input: word1 = \"sea\", word2 = \"eat\"\n",
    "\n",
    "Output: 2\n",
    "\n",
    "Explanation: You need one step to make \"sea\" to \"ea\" and another step to make \"eat\" to \"ea\".\n",
    "\n",
    "\n",
    "    \n",
    "Method 1: dp[i][j]: the minimum step for have same string for s[0:i] and t[0: j] AC 70.05%\n",
    "Initialization: dp[0][0] = 0. Nothing need to do.\n",
    "dp[0][i] = i, dp[i][0] = i. Remove all characters from a string to reach a empty one.\n",
    "State transfer function:\n",
    "if characters are the same: dp[i][j] = dp[i - 1][j - 1]\n",
    "if not the same:\n",
    "remove both of current characters: dp[i - 1][j - 1] + 2\n",
    "remove one character from either string: dp[i - 1][j] + 1 && dp[i][j - 1] + 1.\n",
    "select the minimum from the three methods.\n",
    "\n"
   ]
  },
  {
   "cell_type": "code",
   "execution_count": 8,
   "id": "1c4539cb",
   "metadata": {},
   "outputs": [],
   "source": [
    "class Solution:\n",
    "    def minDistance(self, word1: str, word2: str) -> int:\n",
    "        m=len(word1)\n",
    "        n=len(word2)\n",
    "        dp=[]\n",
    "        for i in range (m+1):\n",
    "            dp.append([0]*(n+1))\n",
    "        for i in range (m+1):\n",
    "            dp[i][0]=i\n",
    "        for i in range (n+1):\n",
    "            dp[0][i]=i\n",
    "        for i in range (1,m+1):\n",
    "            for j in range (1,n+1):\n",
    "                if word1[i-1]==word2[j-1]:\n",
    "                    dp[i][j]=dp[i-1][j-1]\n",
    "                else:\n",
    "                    dp[i][j]=min(dp[i][j-1],dp[i-1][j])+1\n",
    "        return dp[-1][-1]\n",
    "        "
   ]
  },
  {
   "cell_type": "code",
   "execution_count": 9,
   "id": "adf68833",
   "metadata": {},
   "outputs": [
    {
     "data": {
      "text/plain": [
       "2"
      ]
     },
     "execution_count": 9,
     "metadata": {},
     "output_type": "execute_result"
    }
   ],
   "source": [
    "solution = Solution()\n",
    "word1 = \"sea\"\n",
    "word2 = \"eat\"\n",
    "solution.minDistance(word1,word2)\n"
   ]
  },
  {
   "cell_type": "markdown",
   "id": "ffa2ab28",
   "metadata": {},
   "source": [
    "Question 4\n",
    "\n",
    "You need to construct a binary tree from a string consisting of parenthesis and integers.\n",
    "\n",
    "The whole input represents a binary tree. It contains an integer followed by zero, one or two pairs of parenthesis. The integer represents the root's value and a pair of parenthesis contains a child binary tree with the same structure.\n",
    "You always start to construct the left child node of the parent first if it exists.\n",
    "\n",
    "![Screenshot 2023-05-29 010548.png](https://s3-us-west-2.amazonaws.com/secure.notion-static.com/bdbea2d1-34a4-4c4b-a450-ea6db7410c43/Screenshot_2023-05-29_010548.png)\n",
    "\n",
    " Input: s = \"4(2(3)(1))(6(5))\"\n",
    "\n",
    "Output: [4,2,6,3,1,5]\n",
    "\n",
    "        "
   ]
  },
  {
   "cell_type": "code",
   "execution_count": 46,
   "id": "bbf3db52",
   "metadata": {},
   "outputs": [
    {
     "name": "stdout",
     "output_type": "stream",
     "text": [
      "4 2 3 1 6 5 "
     ]
    }
   ],
   "source": [
    "class newNode:\n",
    "\tdef __init__(self, data):\n",
    "\t\tself.data = data\n",
    "\t\tself.left = self.right = None\n",
    "\n",
    "# This function is here just to test\n",
    "\n",
    "\n",
    "def preOrder(node):\n",
    "\tif (node == None):\n",
    "\t\treturn\n",
    "\tprint(node.data, end=' ')\n",
    "\tpreOrder(node.left)\n",
    "\tpreOrder(node.right)\n",
    "\n",
    "# function to return the index of\n",
    "# close parenthesis\n",
    "\n",
    "\n",
    "def findIndex(Str, si, ei):\n",
    "\tif (si > ei):\n",
    "\t\treturn -1\n",
    "\n",
    "\t# Inbuilt stack\n",
    "\ts = []\n",
    "\tfor i in range(si, ei + 1):\n",
    "\n",
    "\t\t# if open parenthesis, push it\n",
    "\t\tif (Str[i] == '('):\n",
    "\t\t\ts.append(Str[i])\n",
    "\n",
    "\t\t# if close parenthesis\n",
    "\t\telif (Str[i] == ')'):\n",
    "\t\t\tif (s[-1] == '('):\n",
    "\t\t\t\ts.pop(-1)\n",
    "\n",
    "\t\t\t\t# if stack is empty, this is\n",
    "\t\t\t\t# the required index\n",
    "\t\t\t\tif len(s) == 0:\n",
    "\t\t\t\t\treturn i\n",
    "\t# if not found return -1\n",
    "\treturn -1\n",
    "\n",
    "# function to conStruct tree from String\n",
    "\n",
    "\n",
    "def treeFromString(Str, si, ei):\n",
    "\n",
    "\t# Base case\n",
    "\tif (si > ei):\n",
    "\t\treturn None\n",
    "\n",
    "\t# new root\n",
    "\troot = newNode(ord(Str[si]) - ord('0'))\n",
    "\tindex = -1\n",
    "\n",
    "\t# if next char is '(' find the\n",
    "\t# index of its complement ')'\n",
    "\tif (si + 1 <= ei and Str[si + 1] == '('):\n",
    "\t\tindex = findIndex(Str, si + 1, ei)\n",
    "\n",
    "\t# if index found\n",
    "\tif (index != -1):\n",
    "\n",
    "\t\t# call for left subtree\n",
    "\t\troot.left = treeFromString(Str, si + 2,\n",
    "\t\t\t\t\t\t\t\tindex - 1)\n",
    "\n",
    "\t\t# call for right subtree\n",
    "\t\troot.right = treeFromString(Str, index + 2,\n",
    "\t\t\t\t\t\t\t\t\tei - 1)\n",
    "\treturn root\n",
    "\n",
    "\n",
    "\n",
    "Str = \"4(2(3)(1))(6(5))\"\n",
    "root = treeFromString(Str, 0, len(Str) - 1)\n",
    "preOrder(root)"
   ]
  },
  {
   "cell_type": "code",
   "execution_count": null,
   "id": "0f95c362",
   "metadata": {},
   "outputs": [],
   "source": []
  },
  {
   "cell_type": "code",
   "execution_count": null,
   "id": "2a575db8",
   "metadata": {},
   "outputs": [],
   "source": [
    "Question 5\n",
    "\n",
    "Given an array of characters chars, compress it using the following algorithm:\n",
    "\n",
    "Begin with an empty string s. For each group of consecutive repeating characters in chars:\n",
    "\n",
    "- If the group's length is 1, append the character to s.\n",
    "- Otherwise, append the character followed by the group's length.\n",
    "\n",
    "The compressed string s should not be returned separately, but instead, be stored in the input character array chars. Note that group lengths that are 10 or longer will be split into multiple characters in chars.\n",
    "\n",
    "After you are done modifying the input array, return the new length of the array.\n",
    "\n",
    "You must write an algorithm that uses only constant extra space.\n",
    "\n",
    "Example 1:\n",
    "\n",
    "Input: chars = [\"a\",\"a\",\"b\",\"b\",\"c\",\"c\",\"c\"]\n",
    "\n",
    "Output: Return 6, and the first 6 characters of the input array should be: [\"a\",\"2\",\"b\",\"2\",\"c\",\"3\"]\n",
    "\n",
    "Explanation:\n",
    "\n",
    "The groups are \"aa\", \"bb\", and \"ccc\". This compresses to \"a2b2c3\".\n",
    "\n",
    "\n"
   ]
  },
  {
   "cell_type": "code",
   "execution_count": 48,
   "id": "eff674af",
   "metadata": {},
   "outputs": [],
   "source": [
    "class Solution:\n",
    "    def compress(self, chars):\n",
    "        \"\"\"\n",
    "        :type chars: List[str]\n",
    "        :rtype: int\n",
    "        \"\"\"\n",
    "        result, cnt = 0, 1\n",
    "        j = 0\n",
    "        for i in range(1, len(chars)+1): \n",
    "            if i < len(chars) and chars[i] == chars[i-1]:\n",
    "                cnt += 1\n",
    "            else:\n",
    "                # 1) update letter\n",
    "                chars[j] = chars[i-1]\n",
    "                j += 1\n",
    "                # 2) update cnt\n",
    "                if cnt == 1:\n",
    "                    continue\n",
    "                for ch in str(cnt):\n",
    "                    chars[j] = ch\n",
    "                    j += 1\n",
    "                # 3) reset cnt\n",
    "                cnt = 1\n",
    "        return j\n",
    "        \n"
   ]
  },
  {
   "cell_type": "code",
   "execution_count": 52,
   "id": "2bba6c6d",
   "metadata": {},
   "outputs": [
    {
     "data": {
      "text/plain": [
       "6"
      ]
     },
     "execution_count": 52,
     "metadata": {},
     "output_type": "execute_result"
    }
   ],
   "source": [
    "solution = Solution()\n",
    "chars = [\"a\",\"a\",\"b\",\"b\",\"c\",\"c\",\"c\"]\n",
    "solution.compress(chars)\n"
   ]
  },
  {
   "cell_type": "code",
   "execution_count": null,
   "id": "83d2b9fa",
   "metadata": {},
   "outputs": [],
   "source": [
    "Question 6\n",
    "\n",
    "Given two strings s and p, return an array of all the start indices of p's anagrams in s. You may return the answer in any order.\n",
    "\n",
    "An Anagram is a word or phrase formed by rearranging the letters of a different word or phrase, typically using all the original letters exactly once.\n",
    "\n",
    "Example 1:\n",
    "\n",
    "Input: s = \"cbaebabacd\", p = \"abc\"\n",
    "\n",
    "Output: [0,6]\n",
    "\n",
    "Explanation:\n",
    "\n",
    "The substring with start index = 0 is \"cba\", which is an anagram of \"abc\".\n",
    "\n",
    "The substring with start index = 6 is \"bac\", which is an anagram of \"abc\".\n",
    "\n"
   ]
  },
  {
   "cell_type": "code",
   "execution_count": 67,
   "id": "e5762d71",
   "metadata": {},
   "outputs": [
    {
     "name": "stdout",
     "output_type": "stream",
     "text": [
      "Found at Index  0\n",
      "Found at Index  6\n"
     ]
    }
   ],
   "source": [
    "# Python code for the approach\n",
    "def search(pat, txt):\n",
    "\n",
    "# finding lengths of strings pat and txt\n",
    "    n = len(txt)\n",
    "    m = len(pat)\n",
    "\n",
    "# string sortedpat stores the sorted version of pat\n",
    "    sortedpat = pat\n",
    "    sortedpat = list(sortedpat)\n",
    "    sortedpat.sort()\n",
    "    sortedpat = ' '.join([str(elem) for elem in sortedpat])\n",
    "\n",
    "# temp for storing the substring of length equal to pat\n",
    "    for i in range(0,n-m+1):\n",
    "        temp = txt[i:i+m]\n",
    "        temp = list(temp)\n",
    "        temp.sort()\n",
    "        temp = ' '.join([str(elem) for elem in temp])\n",
    "        if(sortedpat == temp):\n",
    "             print(\"Found at Index \",i)\n",
    "\n",
    "# driver code\n",
    "txt = \"cbaebabacd\"\n",
    "pat = \"abc\"\n",
    "search(pat, txt);\n",
    "\n"
   ]
  },
  {
   "cell_type": "code",
   "execution_count": null,
   "id": "270b02d4",
   "metadata": {},
   "outputs": [],
   "source": [
    "Question 7\n",
    "\n",
    "Given an encoded string, return its decoded string.\n",
    "\n",
    "The encoding rule is: k[encoded_string], where the encoded_string inside the square brackets is being repeated exactly k times. Note that k is guaranteed to be a positive integer.\n",
    "\n",
    "You may assume that the input string is always valid; there are no extra white spaces, square brackets are well-formed, etc. Furthermore, you may assume that the original data does not contain any digits and that digits are only for those repeat numbers, k. For example, there will not be input like 3a or 2[4].\n",
    "\n",
    "The test cases are generated so that the length of the output will never exceed 105.\n",
    "\n",
    "Example 1:\n",
    "\n",
    "Input: s = \"3[a]2[bc]\"\n",
    "\n",
    "Output: \"aaabcbc\"\n"
   ]
  },
  {
   "cell_type": "code",
   "execution_count": 69,
   "id": "1b181443",
   "metadata": {},
   "outputs": [
    {
     "name": "stdout",
     "output_type": "stream",
     "text": [
      "aaabcbc\n"
     ]
    }
   ],
   "source": [
    "# Python program to decode a string recursively\n",
    "# encoded as count followed substring\n",
    "\n",
    "# Returns decoded string for 'str'\n",
    "def decode(Str):\n",
    "\tintegerstack = []\n",
    "\tstringstack = []\n",
    "\ttemp = \"\"\n",
    "\tresult = \"\"\n",
    "\ti = 0\n",
    "\t# Traversing the string\n",
    "\twhile i < len(Str):\n",
    "\t\tcount = 0\n",
    "\n",
    "\t\t# If number, convert it into number\n",
    "\t\t# and push it into integerstack.\n",
    "\t\tif (Str[i] >= '0' and Str[i] <='9'):\n",
    "\t\t\twhile (Str[i] >= '0' and Str[i] <= '9'):\n",
    "\t\t\t\tcount = count * 10 + ord(Str[i]) - ord('0')\n",
    "\t\t\t\ti += 1\n",
    "\t\t\ti -= 1\n",
    "\t\t\tintegerstack.append(count)\n",
    "\n",
    "\t\t# If closing bracket ']', pop element until\n",
    "\t\t# '[' opening bracket is not found in the\n",
    "\t\t# character stack.\n",
    "\t\telif (Str[i] == ']'):\n",
    "\t\t\ttemp = \"\"\n",
    "\t\t\tcount = 0\n",
    "\n",
    "\t\t\tif (len(integerstack) != 0):\n",
    "\t\t\t\tcount = integerstack[-1]\n",
    "\t\t\t\tintegerstack.pop()\n",
    "\n",
    "\t\t\twhile (len(stringstack) != 0 and stringstack[-1] !='[' ):\n",
    "\t\t\t\ttemp = stringstack[-1] + temp\n",
    "\t\t\t\tstringstack.pop()\n",
    "\n",
    "\t\t\tif (len(stringstack) != 0 and stringstack[-1] == '['):\n",
    "\t\t\t\tstringstack.pop()\n",
    "\n",
    "\t\t\t# Repeating the popped string 'temo' count\n",
    "\t\t\t# number of times.\n",
    "\t\t\tfor j in range(count):\n",
    "\t\t\t\tresult = result + temp\n",
    "\n",
    "\t\t\t# Push it in the character stack.\n",
    "\t\t\tfor j in range(len(result)):\n",
    "\t\t\t\tstringstack.append(result[j])\n",
    "\n",
    "\t\t\tresult = \"\"\n",
    "\n",
    "\t\t# If '[' opening bracket, push it into character stack.\n",
    "\t\telif (Str[i] == '['):\n",
    "\t\t\tif (Str[i-1] >= '0' and Str[i-1] <= '9'):\n",
    "\t\t\t\tstringstack.append(Str[i])\n",
    "\n",
    "\t\t\telse:\n",
    "\t\t\t\tstringstack.append(Str[i])\n",
    "\t\t\t\tintegerstack.append(1)\n",
    "\n",
    "\t\telse:\n",
    "\t\t\tstringstack.append(Str[i])\n",
    "\t\t\n",
    "\t\ti += 1\n",
    "\n",
    "\t# Pop all the element, make a string and return.\n",
    "\twhile len(stringstack) != 0:\n",
    "\t\tresult = stringstack[-1] + result\n",
    "\t\tstringstack.pop()\n",
    "\n",
    "\treturn result\n",
    "\n",
    "\n",
    "\n",
    "Str = \"3[a]2[bc]\"\n",
    "print(decode(Str))\n",
    "\t\n"
   ]
  },
  {
   "cell_type": "code",
   "execution_count": null,
   "id": "a7d77921",
   "metadata": {},
   "outputs": [],
   "source": [
    "Question 8\n",
    "\n",
    "Given two strings s and goal, return true if you can swap two letters in s so the result is equal to goal, otherwise, return false.\n",
    "\n",
    "Swapping letters is defined as taking two indices i and j (0-indexed) such that i != j and swapping the characters at s[i] and s[j].\n",
    "\n",
    "- For example, swapping at indices 0 and 2 in \"abcd\" results in \"cbad\".\n",
    "\n",
    "Example 1:\n",
    "\n",
    "Input: s = \"ab\", goal = \"ba\"\n",
    "\n",
    "Output: true\n",
    "\n",
    "Explanation: You can swap s[0] = 'a' and s[1] = 'b' to get \"ba\", which is equal to goal.\n",
    "\n"
   ]
  },
  {
   "cell_type": "code",
   "execution_count": 73,
   "id": "e411b3f9",
   "metadata": {},
   "outputs": [],
   "source": [
    "class Solution:\n",
    "    def buddyStrings(self, s: str, goal: str) -> bool:\n",
    "        # Step 1: Check if the lengths of s and goal are different\n",
    "        if len(s) != len(goal):\n",
    "            return False\n",
    "        \n",
    "        # Step 2: Check if s and goal are exactly the same\n",
    "        # and there are duplicate characters in s\n",
    "        if s == goal and len(set(s)) < len(s):\n",
    "            return True\n",
    "        \n",
    "        # Step 3: Find the pairs of different characters in s and goal\n",
    "        diffs = [(a, b) for a, b in zip(s, goal) if a != b]\n",
    "        \n",
    "        # Step 4: Check if there are exactly two different pairs of characters\n",
    "        # and the first pair can be transformed into the second pair by flipping it\n",
    "        return len(diffs) == 2 and diffs[0] == diffs[1][::-1]"
   ]
  },
  {
   "cell_type": "code",
   "execution_count": 74,
   "id": "2f21c032",
   "metadata": {},
   "outputs": [
    {
     "data": {
      "text/plain": [
       "True"
      ]
     },
     "execution_count": 74,
     "metadata": {},
     "output_type": "execute_result"
    }
   ],
   "source": [
    "solution = Solution()\n",
    "s = \"ab\"\n",
    "goal = \"ba\"\n",
    "solution.buddyStrings(s,goal)"
   ]
  },
  {
   "cell_type": "code",
   "execution_count": null,
   "id": "33154311",
   "metadata": {},
   "outputs": [],
   "source": []
  }
 ],
 "metadata": {
  "kernelspec": {
   "display_name": "Python 3 (ipykernel)",
   "language": "python",
   "name": "python3"
  },
  "language_info": {
   "codemirror_mode": {
    "name": "ipython",
    "version": 3
   },
   "file_extension": ".py",
   "mimetype": "text/x-python",
   "name": "python",
   "nbconvert_exporter": "python",
   "pygments_lexer": "ipython3",
   "version": "3.9.12"
  }
 },
 "nbformat": 4,
 "nbformat_minor": 5
}
